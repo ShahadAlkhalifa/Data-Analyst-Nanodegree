{
 "cells": [
  {
   "cell_type": "markdown",
   "metadata": {},
   "source": [
    "# Ford Gobike Data Exploration\n",
    "## by Shahad Al-Khalifa\n",
    "\n",
    "## Introduction\n",
    "\n",
    "Ford GoBike is a regional public bicycle sharing system in the San Francisco Bay Area, California. The Ford GoBike system, which began operations as Bay Area Bike Share in August 2013, now includes approximately 2,600 bicycles in 262 stations around San Francisco, the East Bay, and San Jose. In a collaboration with Ford Motor Company, the system was formally introduced as Ford GoBike on June 28, 2017.\n",
    "\n",
    "Ford GoBike, like other bike sharing systems, is made up of a fleet of carefully constructed, strong, and durable bikes that are docked at a network of docking stations located around the city. The bikes may be unlocked at any station in the system and returned to any other station, making them perfect for one-way excursions. The bikes are accessible for use 24 hours a day, seven days a week, 365 days a year, and riders who become members or purchase passes have access to all bikes in the network.\n",
    "\n",
    "\n",
    "\n",
    "## Preliminary Wrangling\n"
   ]
  },
  {
   "cell_type": "code",
   "execution_count": 1,
   "metadata": {},
   "outputs": [],
   "source": [
    "# import all packages and set plots to be embedded inline\n",
    "import numpy as np\n",
    "import pandas as pd\n",
    "import matplotlib.pyplot as plt\n",
    "import seaborn as sb\n",
    "\n",
    "%matplotlib inline"
   ]
  },
  {
   "cell_type": "code",
   "execution_count": 2,
   "metadata": {},
   "outputs": [
    {
     "data": {
      "text/html": [
       "<div>\n",
       "<style scoped>\n",
       "    .dataframe tbody tr th:only-of-type {\n",
       "        vertical-align: middle;\n",
       "    }\n",
       "\n",
       "    .dataframe tbody tr th {\n",
       "        vertical-align: top;\n",
       "    }\n",
       "\n",
       "    .dataframe thead th {\n",
       "        text-align: right;\n",
       "    }\n",
       "</style>\n",
       "<table border=\"1\" class=\"dataframe\">\n",
       "  <thead>\n",
       "    <tr style=\"text-align: right;\">\n",
       "      <th></th>\n",
       "      <th>duration_sec</th>\n",
       "      <th>start_time</th>\n",
       "      <th>end_time</th>\n",
       "      <th>start_station_id</th>\n",
       "      <th>start_station_name</th>\n",
       "      <th>start_station_latitude</th>\n",
       "      <th>start_station_longitude</th>\n",
       "      <th>end_station_id</th>\n",
       "      <th>end_station_name</th>\n",
       "      <th>end_station_latitude</th>\n",
       "      <th>end_station_longitude</th>\n",
       "      <th>bike_id</th>\n",
       "      <th>user_type</th>\n",
       "      <th>member_birth_year</th>\n",
       "      <th>member_gender</th>\n",
       "      <th>bike_share_for_all_trip</th>\n",
       "    </tr>\n",
       "  </thead>\n",
       "  <tbody>\n",
       "    <tr>\n",
       "      <th>0</th>\n",
       "      <td>52185</td>\n",
       "      <td>2019-02-28 17:32:10.1450</td>\n",
       "      <td>2019-03-01 08:01:55.9750</td>\n",
       "      <td>21.0</td>\n",
       "      <td>Montgomery St BART Station (Market St at 2nd St)</td>\n",
       "      <td>37.789625</td>\n",
       "      <td>-122.400811</td>\n",
       "      <td>13.0</td>\n",
       "      <td>Commercial St at Montgomery St</td>\n",
       "      <td>37.794231</td>\n",
       "      <td>-122.402923</td>\n",
       "      <td>4902</td>\n",
       "      <td>Customer</td>\n",
       "      <td>1984.0</td>\n",
       "      <td>Male</td>\n",
       "      <td>No</td>\n",
       "    </tr>\n",
       "    <tr>\n",
       "      <th>1</th>\n",
       "      <td>42521</td>\n",
       "      <td>2019-02-28 18:53:21.7890</td>\n",
       "      <td>2019-03-01 06:42:03.0560</td>\n",
       "      <td>23.0</td>\n",
       "      <td>The Embarcadero at Steuart St</td>\n",
       "      <td>37.791464</td>\n",
       "      <td>-122.391034</td>\n",
       "      <td>81.0</td>\n",
       "      <td>Berry St at 4th St</td>\n",
       "      <td>37.775880</td>\n",
       "      <td>-122.393170</td>\n",
       "      <td>2535</td>\n",
       "      <td>Customer</td>\n",
       "      <td>NaN</td>\n",
       "      <td>NaN</td>\n",
       "      <td>No</td>\n",
       "    </tr>\n",
       "    <tr>\n",
       "      <th>2</th>\n",
       "      <td>61854</td>\n",
       "      <td>2019-02-28 12:13:13.2180</td>\n",
       "      <td>2019-03-01 05:24:08.1460</td>\n",
       "      <td>86.0</td>\n",
       "      <td>Market St at Dolores St</td>\n",
       "      <td>37.769305</td>\n",
       "      <td>-122.426826</td>\n",
       "      <td>3.0</td>\n",
       "      <td>Powell St BART Station (Market St at 4th St)</td>\n",
       "      <td>37.786375</td>\n",
       "      <td>-122.404904</td>\n",
       "      <td>5905</td>\n",
       "      <td>Customer</td>\n",
       "      <td>1972.0</td>\n",
       "      <td>Male</td>\n",
       "      <td>No</td>\n",
       "    </tr>\n",
       "    <tr>\n",
       "      <th>3</th>\n",
       "      <td>36490</td>\n",
       "      <td>2019-02-28 17:54:26.0100</td>\n",
       "      <td>2019-03-01 04:02:36.8420</td>\n",
       "      <td>375.0</td>\n",
       "      <td>Grove St at Masonic Ave</td>\n",
       "      <td>37.774836</td>\n",
       "      <td>-122.446546</td>\n",
       "      <td>70.0</td>\n",
       "      <td>Central Ave at Fell St</td>\n",
       "      <td>37.773311</td>\n",
       "      <td>-122.444293</td>\n",
       "      <td>6638</td>\n",
       "      <td>Subscriber</td>\n",
       "      <td>1989.0</td>\n",
       "      <td>Other</td>\n",
       "      <td>No</td>\n",
       "    </tr>\n",
       "    <tr>\n",
       "      <th>4</th>\n",
       "      <td>1585</td>\n",
       "      <td>2019-02-28 23:54:18.5490</td>\n",
       "      <td>2019-03-01 00:20:44.0740</td>\n",
       "      <td>7.0</td>\n",
       "      <td>Frank H Ogawa Plaza</td>\n",
       "      <td>37.804562</td>\n",
       "      <td>-122.271738</td>\n",
       "      <td>222.0</td>\n",
       "      <td>10th Ave at E 15th St</td>\n",
       "      <td>37.792714</td>\n",
       "      <td>-122.248780</td>\n",
       "      <td>4898</td>\n",
       "      <td>Subscriber</td>\n",
       "      <td>1974.0</td>\n",
       "      <td>Male</td>\n",
       "      <td>Yes</td>\n",
       "    </tr>\n",
       "  </tbody>\n",
       "</table>\n",
       "</div>"
      ],
      "text/plain": [
       "   duration_sec                start_time                  end_time  \\\n",
       "0         52185  2019-02-28 17:32:10.1450  2019-03-01 08:01:55.9750   \n",
       "1         42521  2019-02-28 18:53:21.7890  2019-03-01 06:42:03.0560   \n",
       "2         61854  2019-02-28 12:13:13.2180  2019-03-01 05:24:08.1460   \n",
       "3         36490  2019-02-28 17:54:26.0100  2019-03-01 04:02:36.8420   \n",
       "4          1585  2019-02-28 23:54:18.5490  2019-03-01 00:20:44.0740   \n",
       "\n",
       "   start_station_id                                start_station_name  \\\n",
       "0              21.0  Montgomery St BART Station (Market St at 2nd St)   \n",
       "1              23.0                     The Embarcadero at Steuart St   \n",
       "2              86.0                           Market St at Dolores St   \n",
       "3             375.0                           Grove St at Masonic Ave   \n",
       "4               7.0                               Frank H Ogawa Plaza   \n",
       "\n",
       "   start_station_latitude  start_station_longitude  end_station_id  \\\n",
       "0               37.789625              -122.400811            13.0   \n",
       "1               37.791464              -122.391034            81.0   \n",
       "2               37.769305              -122.426826             3.0   \n",
       "3               37.774836              -122.446546            70.0   \n",
       "4               37.804562              -122.271738           222.0   \n",
       "\n",
       "                               end_station_name  end_station_latitude  \\\n",
       "0                Commercial St at Montgomery St             37.794231   \n",
       "1                            Berry St at 4th St             37.775880   \n",
       "2  Powell St BART Station (Market St at 4th St)             37.786375   \n",
       "3                        Central Ave at Fell St             37.773311   \n",
       "4                         10th Ave at E 15th St             37.792714   \n",
       "\n",
       "   end_station_longitude  bike_id   user_type  member_birth_year  \\\n",
       "0            -122.402923     4902    Customer             1984.0   \n",
       "1            -122.393170     2535    Customer                NaN   \n",
       "2            -122.404904     5905    Customer             1972.0   \n",
       "3            -122.444293     6638  Subscriber             1989.0   \n",
       "4            -122.248780     4898  Subscriber             1974.0   \n",
       "\n",
       "  member_gender bike_share_for_all_trip  \n",
       "0          Male                      No  \n",
       "1           NaN                      No  \n",
       "2          Male                      No  \n",
       "3         Other                      No  \n",
       "4          Male                     Yes  "
      ]
     },
     "execution_count": 2,
     "metadata": {},
     "output_type": "execute_result"
    }
   ],
   "source": [
    "# Read file and view the first five rows\n",
    "df = pd.read_csv('201902-fordgobike-tripdata.csv')\n",
    "df.head()"
   ]
  },
  {
   "cell_type": "code",
   "execution_count": 3,
   "metadata": {},
   "outputs": [
    {
     "data": {
      "text/html": [
       "<div>\n",
       "<style scoped>\n",
       "    .dataframe tbody tr th:only-of-type {\n",
       "        vertical-align: middle;\n",
       "    }\n",
       "\n",
       "    .dataframe tbody tr th {\n",
       "        vertical-align: top;\n",
       "    }\n",
       "\n",
       "    .dataframe thead th {\n",
       "        text-align: right;\n",
       "    }\n",
       "</style>\n",
       "<table border=\"1\" class=\"dataframe\">\n",
       "  <thead>\n",
       "    <tr style=\"text-align: right;\">\n",
       "      <th></th>\n",
       "      <th>duration_sec</th>\n",
       "      <th>start_time</th>\n",
       "      <th>end_time</th>\n",
       "      <th>start_station_id</th>\n",
       "      <th>start_station_name</th>\n",
       "      <th>start_station_latitude</th>\n",
       "      <th>start_station_longitude</th>\n",
       "      <th>end_station_id</th>\n",
       "      <th>end_station_name</th>\n",
       "      <th>end_station_latitude</th>\n",
       "      <th>end_station_longitude</th>\n",
       "      <th>bike_id</th>\n",
       "      <th>user_type</th>\n",
       "      <th>member_birth_year</th>\n",
       "      <th>member_gender</th>\n",
       "      <th>bike_share_for_all_trip</th>\n",
       "    </tr>\n",
       "  </thead>\n",
       "  <tbody>\n",
       "    <tr>\n",
       "      <th>148583</th>\n",
       "      <td>740</td>\n",
       "      <td>2019-02-06 21:17:50.0850</td>\n",
       "      <td>2019-02-06 21:30:10.1370</td>\n",
       "      <td>245.0</td>\n",
       "      <td>Downtown Berkeley BART</td>\n",
       "      <td>37.870139</td>\n",
       "      <td>-122.268422</td>\n",
       "      <td>239.0</td>\n",
       "      <td>Bancroft Way at Telegraph Ave</td>\n",
       "      <td>37.868813</td>\n",
       "      <td>-122.258764</td>\n",
       "      <td>342</td>\n",
       "      <td>Subscriber</td>\n",
       "      <td>1992.0</td>\n",
       "      <td>Female</td>\n",
       "      <td>No</td>\n",
       "    </tr>\n",
       "    <tr>\n",
       "      <th>29942</th>\n",
       "      <td>231</td>\n",
       "      <td>2019-02-25 01:42:22.5220</td>\n",
       "      <td>2019-02-25 01:46:13.6160</td>\n",
       "      <td>310.0</td>\n",
       "      <td>San Fernando St at 4th St</td>\n",
       "      <td>37.335885</td>\n",
       "      <td>-121.885660</td>\n",
       "      <td>357.0</td>\n",
       "      <td>2nd St at Julian St</td>\n",
       "      <td>37.341132</td>\n",
       "      <td>-121.892844</td>\n",
       "      <td>6167</td>\n",
       "      <td>Subscriber</td>\n",
       "      <td>1992.0</td>\n",
       "      <td>Male</td>\n",
       "      <td>Yes</td>\n",
       "    </tr>\n",
       "    <tr>\n",
       "      <th>125358</th>\n",
       "      <td>899</td>\n",
       "      <td>2019-02-11 07:27:02.1700</td>\n",
       "      <td>2019-02-11 07:42:02.0240</td>\n",
       "      <td>53.0</td>\n",
       "      <td>Grove St at Divisadero</td>\n",
       "      <td>37.775946</td>\n",
       "      <td>-122.437777</td>\n",
       "      <td>20.0</td>\n",
       "      <td>Mechanics Monument Plaza (Market St at Bush St)</td>\n",
       "      <td>37.791300</td>\n",
       "      <td>-122.399051</td>\n",
       "      <td>5070</td>\n",
       "      <td>Subscriber</td>\n",
       "      <td>1987.0</td>\n",
       "      <td>Female</td>\n",
       "      <td>No</td>\n",
       "    </tr>\n",
       "    <tr>\n",
       "      <th>126131</th>\n",
       "      <td>186</td>\n",
       "      <td>2019-02-10 20:54:39.7840</td>\n",
       "      <td>2019-02-10 20:57:46.1790</td>\n",
       "      <td>75.0</td>\n",
       "      <td>Market St at Franklin St</td>\n",
       "      <td>37.773793</td>\n",
       "      <td>-122.421239</td>\n",
       "      <td>77.0</td>\n",
       "      <td>11th St at Natoma St</td>\n",
       "      <td>37.773507</td>\n",
       "      <td>-122.416040</td>\n",
       "      <td>4752</td>\n",
       "      <td>Subscriber</td>\n",
       "      <td>NaN</td>\n",
       "      <td>NaN</td>\n",
       "      <td>No</td>\n",
       "    </tr>\n",
       "    <tr>\n",
       "      <th>62832</th>\n",
       "      <td>405</td>\n",
       "      <td>2019-02-20 16:23:37.5250</td>\n",
       "      <td>2019-02-20 16:30:23.1430</td>\n",
       "      <td>24.0</td>\n",
       "      <td>Spear St at Folsom St</td>\n",
       "      <td>37.789677</td>\n",
       "      <td>-122.390428</td>\n",
       "      <td>25.0</td>\n",
       "      <td>Howard St at 2nd St</td>\n",
       "      <td>37.787522</td>\n",
       "      <td>-122.397405</td>\n",
       "      <td>6095</td>\n",
       "      <td>Subscriber</td>\n",
       "      <td>1993.0</td>\n",
       "      <td>Female</td>\n",
       "      <td>No</td>\n",
       "    </tr>\n",
       "    <tr>\n",
       "      <th>99182</th>\n",
       "      <td>216</td>\n",
       "      <td>2019-02-14 20:57:58.7090</td>\n",
       "      <td>2019-02-14 21:01:35.5350</td>\n",
       "      <td>285.0</td>\n",
       "      <td>Webster St at O'Farrell St</td>\n",
       "      <td>37.783521</td>\n",
       "      <td>-122.431158</td>\n",
       "      <td>54.0</td>\n",
       "      <td>Alamo Square (Steiner St at Fulton St)</td>\n",
       "      <td>37.777547</td>\n",
       "      <td>-122.433274</td>\n",
       "      <td>5916</td>\n",
       "      <td>Subscriber</td>\n",
       "      <td>1991.0</td>\n",
       "      <td>Male</td>\n",
       "      <td>No</td>\n",
       "    </tr>\n",
       "    <tr>\n",
       "      <th>69609</th>\n",
       "      <td>627</td>\n",
       "      <td>2019-02-19 19:10:48.0320</td>\n",
       "      <td>2019-02-19 19:21:15.0780</td>\n",
       "      <td>50.0</td>\n",
       "      <td>2nd St at Townsend St</td>\n",
       "      <td>37.780526</td>\n",
       "      <td>-122.390288</td>\n",
       "      <td>61.0</td>\n",
       "      <td>Howard St at 8th St</td>\n",
       "      <td>37.776513</td>\n",
       "      <td>-122.411306</td>\n",
       "      <td>4335</td>\n",
       "      <td>Subscriber</td>\n",
       "      <td>1992.0</td>\n",
       "      <td>Male</td>\n",
       "      <td>No</td>\n",
       "    </tr>\n",
       "    <tr>\n",
       "      <th>60891</th>\n",
       "      <td>354</td>\n",
       "      <td>2019-02-20 18:11:29.2160</td>\n",
       "      <td>2019-02-20 18:17:23.4220</td>\n",
       "      <td>47.0</td>\n",
       "      <td>4th St at Harrison St</td>\n",
       "      <td>37.780955</td>\n",
       "      <td>-122.399749</td>\n",
       "      <td>81.0</td>\n",
       "      <td>Berry St at 4th St</td>\n",
       "      <td>37.775880</td>\n",
       "      <td>-122.393170</td>\n",
       "      <td>5937</td>\n",
       "      <td>Subscriber</td>\n",
       "      <td>1992.0</td>\n",
       "      <td>Female</td>\n",
       "      <td>No</td>\n",
       "    </tr>\n",
       "    <tr>\n",
       "      <th>103136</th>\n",
       "      <td>326</td>\n",
       "      <td>2019-02-14 14:33:00.2110</td>\n",
       "      <td>2019-02-14 14:38:26.2210</td>\n",
       "      <td>50.0</td>\n",
       "      <td>2nd St at Townsend St</td>\n",
       "      <td>37.780526</td>\n",
       "      <td>-122.390288</td>\n",
       "      <td>64.0</td>\n",
       "      <td>5th St at Brannan St</td>\n",
       "      <td>37.776754</td>\n",
       "      <td>-122.399018</td>\n",
       "      <td>6545</td>\n",
       "      <td>Subscriber</td>\n",
       "      <td>1950.0</td>\n",
       "      <td>Male</td>\n",
       "      <td>No</td>\n",
       "    </tr>\n",
       "    <tr>\n",
       "      <th>16768</th>\n",
       "      <td>394</td>\n",
       "      <td>2019-02-27 08:09:13.5290</td>\n",
       "      <td>2019-02-27 08:15:47.9130</td>\n",
       "      <td>73.0</td>\n",
       "      <td>Pierce St at Haight St</td>\n",
       "      <td>37.771793</td>\n",
       "      <td>-122.433708</td>\n",
       "      <td>29.0</td>\n",
       "      <td>O'Farrell St at Divisadero St</td>\n",
       "      <td>37.782405</td>\n",
       "      <td>-122.439446</td>\n",
       "      <td>4834</td>\n",
       "      <td>Customer</td>\n",
       "      <td>1973.0</td>\n",
       "      <td>Male</td>\n",
       "      <td>No</td>\n",
       "    </tr>\n",
       "  </tbody>\n",
       "</table>\n",
       "</div>"
      ],
      "text/plain": [
       "        duration_sec                start_time                  end_time  \\\n",
       "148583           740  2019-02-06 21:17:50.0850  2019-02-06 21:30:10.1370   \n",
       "29942            231  2019-02-25 01:42:22.5220  2019-02-25 01:46:13.6160   \n",
       "125358           899  2019-02-11 07:27:02.1700  2019-02-11 07:42:02.0240   \n",
       "126131           186  2019-02-10 20:54:39.7840  2019-02-10 20:57:46.1790   \n",
       "62832            405  2019-02-20 16:23:37.5250  2019-02-20 16:30:23.1430   \n",
       "99182            216  2019-02-14 20:57:58.7090  2019-02-14 21:01:35.5350   \n",
       "69609            627  2019-02-19 19:10:48.0320  2019-02-19 19:21:15.0780   \n",
       "60891            354  2019-02-20 18:11:29.2160  2019-02-20 18:17:23.4220   \n",
       "103136           326  2019-02-14 14:33:00.2110  2019-02-14 14:38:26.2210   \n",
       "16768            394  2019-02-27 08:09:13.5290  2019-02-27 08:15:47.9130   \n",
       "\n",
       "        start_station_id          start_station_name  start_station_latitude  \\\n",
       "148583             245.0      Downtown Berkeley BART               37.870139   \n",
       "29942              310.0   San Fernando St at 4th St               37.335885   \n",
       "125358              53.0      Grove St at Divisadero               37.775946   \n",
       "126131              75.0    Market St at Franklin St               37.773793   \n",
       "62832               24.0       Spear St at Folsom St               37.789677   \n",
       "99182              285.0  Webster St at O'Farrell St               37.783521   \n",
       "69609               50.0       2nd St at Townsend St               37.780526   \n",
       "60891               47.0       4th St at Harrison St               37.780955   \n",
       "103136              50.0       2nd St at Townsend St               37.780526   \n",
       "16768               73.0      Pierce St at Haight St               37.771793   \n",
       "\n",
       "        start_station_longitude  end_station_id  \\\n",
       "148583              -122.268422           239.0   \n",
       "29942               -121.885660           357.0   \n",
       "125358              -122.437777            20.0   \n",
       "126131              -122.421239            77.0   \n",
       "62832               -122.390428            25.0   \n",
       "99182               -122.431158            54.0   \n",
       "69609               -122.390288            61.0   \n",
       "60891               -122.399749            81.0   \n",
       "103136              -122.390288            64.0   \n",
       "16768               -122.433708            29.0   \n",
       "\n",
       "                                       end_station_name  end_station_latitude  \\\n",
       "148583                    Bancroft Way at Telegraph Ave             37.868813   \n",
       "29942                               2nd St at Julian St             37.341132   \n",
       "125358  Mechanics Monument Plaza (Market St at Bush St)             37.791300   \n",
       "126131                             11th St at Natoma St             37.773507   \n",
       "62832                               Howard St at 2nd St             37.787522   \n",
       "99182            Alamo Square (Steiner St at Fulton St)             37.777547   \n",
       "69609                               Howard St at 8th St             37.776513   \n",
       "60891                                Berry St at 4th St             37.775880   \n",
       "103136                             5th St at Brannan St             37.776754   \n",
       "16768                     O'Farrell St at Divisadero St             37.782405   \n",
       "\n",
       "        end_station_longitude  bike_id   user_type  member_birth_year  \\\n",
       "148583            -122.258764      342  Subscriber             1992.0   \n",
       "29942             -121.892844     6167  Subscriber             1992.0   \n",
       "125358            -122.399051     5070  Subscriber             1987.0   \n",
       "126131            -122.416040     4752  Subscriber                NaN   \n",
       "62832             -122.397405     6095  Subscriber             1993.0   \n",
       "99182             -122.433274     5916  Subscriber             1991.0   \n",
       "69609             -122.411306     4335  Subscriber             1992.0   \n",
       "60891             -122.393170     5937  Subscriber             1992.0   \n",
       "103136            -122.399018     6545  Subscriber             1950.0   \n",
       "16768             -122.439446     4834    Customer             1973.0   \n",
       "\n",
       "       member_gender bike_share_for_all_trip  \n",
       "148583        Female                      No  \n",
       "29942           Male                     Yes  \n",
       "125358        Female                      No  \n",
       "126131           NaN                      No  \n",
       "62832         Female                      No  \n",
       "99182           Male                      No  \n",
       "69609           Male                      No  \n",
       "60891         Female                      No  \n",
       "103136          Male                      No  \n",
       "16768           Male                      No  "
      ]
     },
     "execution_count": 3,
     "metadata": {},
     "output_type": "execute_result"
    }
   ],
   "source": [
    "# Look at a sample of data\n",
    "df.sample(10)"
   ]
  },
  {
   "cell_type": "code",
   "execution_count": 4,
   "metadata": {},
   "outputs": [
    {
     "name": "stdout",
     "output_type": "stream",
     "text": [
      "<class 'pandas.core.frame.DataFrame'>\n",
      "RangeIndex: 183412 entries, 0 to 183411\n",
      "Data columns (total 16 columns):\n",
      "duration_sec               183412 non-null int64\n",
      "start_time                 183412 non-null object\n",
      "end_time                   183412 non-null object\n",
      "start_station_id           183215 non-null float64\n",
      "start_station_name         183215 non-null object\n",
      "start_station_latitude     183412 non-null float64\n",
      "start_station_longitude    183412 non-null float64\n",
      "end_station_id             183215 non-null float64\n",
      "end_station_name           183215 non-null object\n",
      "end_station_latitude       183412 non-null float64\n",
      "end_station_longitude      183412 non-null float64\n",
      "bike_id                    183412 non-null int64\n",
      "user_type                  183412 non-null object\n",
      "member_birth_year          175147 non-null float64\n",
      "member_gender              175147 non-null object\n",
      "bike_share_for_all_trip    183412 non-null object\n",
      "dtypes: float64(7), int64(2), object(7)\n",
      "memory usage: 22.4+ MB\n"
     ]
    }
   ],
   "source": [
    "# Look at the information of the data such as columns and their data types\n",
    "df.info()"
   ]
  },
  {
   "cell_type": "code",
   "execution_count": 5,
   "metadata": {},
   "outputs": [],
   "source": [
    "# Change the data type for start and end time to be datetime64[ns] \n",
    "df['start_time'] = pd.to_datetime(df.start_time)\n",
    "df['end_time'] = pd.to_datetime(df.end_time)"
   ]
  },
  {
   "cell_type": "code",
   "execution_count": 6,
   "metadata": {},
   "outputs": [
    {
     "name": "stdout",
     "output_type": "stream",
     "text": [
      "<class 'pandas.core.frame.DataFrame'>\n",
      "RangeIndex: 183412 entries, 0 to 183411\n",
      "Data columns (total 16 columns):\n",
      "duration_sec               183412 non-null int64\n",
      "start_time                 183412 non-null datetime64[ns]\n",
      "end_time                   183412 non-null datetime64[ns]\n",
      "start_station_id           183215 non-null float64\n",
      "start_station_name         183215 non-null object\n",
      "start_station_latitude     183412 non-null float64\n",
      "start_station_longitude    183412 non-null float64\n",
      "end_station_id             183215 non-null float64\n",
      "end_station_name           183215 non-null object\n",
      "end_station_latitude       183412 non-null float64\n",
      "end_station_longitude      183412 non-null float64\n",
      "bike_id                    183412 non-null int64\n",
      "user_type                  183412 non-null object\n",
      "member_birth_year          175147 non-null float64\n",
      "member_gender              175147 non-null object\n",
      "bike_share_for_all_trip    183412 non-null object\n",
      "dtypes: datetime64[ns](2), float64(7), int64(2), object(5)\n",
      "memory usage: 22.4+ MB\n"
     ]
    }
   ],
   "source": [
    "df.info()"
   ]
  },
  {
   "cell_type": "code",
   "execution_count": 7,
   "metadata": {},
   "outputs": [
    {
     "data": {
      "text/html": [
       "<div>\n",
       "<style scoped>\n",
       "    .dataframe tbody tr th:only-of-type {\n",
       "        vertical-align: middle;\n",
       "    }\n",
       "\n",
       "    .dataframe tbody tr th {\n",
       "        vertical-align: top;\n",
       "    }\n",
       "\n",
       "    .dataframe thead th {\n",
       "        text-align: right;\n",
       "    }\n",
       "</style>\n",
       "<table border=\"1\" class=\"dataframe\">\n",
       "  <thead>\n",
       "    <tr style=\"text-align: right;\">\n",
       "      <th></th>\n",
       "      <th>duration_sec</th>\n",
       "      <th>start_time</th>\n",
       "      <th>end_time</th>\n",
       "      <th>start_station_id</th>\n",
       "      <th>start_station_name</th>\n",
       "      <th>start_station_latitude</th>\n",
       "      <th>start_station_longitude</th>\n",
       "      <th>end_station_id</th>\n",
       "      <th>end_station_name</th>\n",
       "      <th>end_station_latitude</th>\n",
       "      <th>end_station_longitude</th>\n",
       "      <th>bike_id</th>\n",
       "      <th>user_type</th>\n",
       "      <th>member_birth_year</th>\n",
       "      <th>member_gender</th>\n",
       "      <th>bike_share_for_all_trip</th>\n",
       "      <th>start_date</th>\n",
       "      <th>end_date</th>\n",
       "      <th>start_day</th>\n",
       "      <th>end_day</th>\n",
       "    </tr>\n",
       "  </thead>\n",
       "  <tbody>\n",
       "    <tr>\n",
       "      <th>0</th>\n",
       "      <td>52185</td>\n",
       "      <td>17:32:10.145000</td>\n",
       "      <td>08:01:55.975000</td>\n",
       "      <td>21.0</td>\n",
       "      <td>Montgomery St BART Station (Market St at 2nd St)</td>\n",
       "      <td>37.789625</td>\n",
       "      <td>-122.400811</td>\n",
       "      <td>13.0</td>\n",
       "      <td>Commercial St at Montgomery St</td>\n",
       "      <td>37.794231</td>\n",
       "      <td>-122.402923</td>\n",
       "      <td>4902</td>\n",
       "      <td>Customer</td>\n",
       "      <td>1984.0</td>\n",
       "      <td>Male</td>\n",
       "      <td>No</td>\n",
       "      <td>2019-02-28</td>\n",
       "      <td>2019-03-01</td>\n",
       "      <td>Thursday</td>\n",
       "      <td>Friday</td>\n",
       "    </tr>\n",
       "    <tr>\n",
       "      <th>1</th>\n",
       "      <td>42521</td>\n",
       "      <td>18:53:21.789000</td>\n",
       "      <td>06:42:03.056000</td>\n",
       "      <td>23.0</td>\n",
       "      <td>The Embarcadero at Steuart St</td>\n",
       "      <td>37.791464</td>\n",
       "      <td>-122.391034</td>\n",
       "      <td>81.0</td>\n",
       "      <td>Berry St at 4th St</td>\n",
       "      <td>37.775880</td>\n",
       "      <td>-122.393170</td>\n",
       "      <td>2535</td>\n",
       "      <td>Customer</td>\n",
       "      <td>NaN</td>\n",
       "      <td>NaN</td>\n",
       "      <td>No</td>\n",
       "      <td>2019-02-28</td>\n",
       "      <td>2019-03-01</td>\n",
       "      <td>Thursday</td>\n",
       "      <td>Friday</td>\n",
       "    </tr>\n",
       "    <tr>\n",
       "      <th>2</th>\n",
       "      <td>61854</td>\n",
       "      <td>12:13:13.218000</td>\n",
       "      <td>05:24:08.146000</td>\n",
       "      <td>86.0</td>\n",
       "      <td>Market St at Dolores St</td>\n",
       "      <td>37.769305</td>\n",
       "      <td>-122.426826</td>\n",
       "      <td>3.0</td>\n",
       "      <td>Powell St BART Station (Market St at 4th St)</td>\n",
       "      <td>37.786375</td>\n",
       "      <td>-122.404904</td>\n",
       "      <td>5905</td>\n",
       "      <td>Customer</td>\n",
       "      <td>1972.0</td>\n",
       "      <td>Male</td>\n",
       "      <td>No</td>\n",
       "      <td>2019-02-28</td>\n",
       "      <td>2019-03-01</td>\n",
       "      <td>Thursday</td>\n",
       "      <td>Friday</td>\n",
       "    </tr>\n",
       "    <tr>\n",
       "      <th>3</th>\n",
       "      <td>36490</td>\n",
       "      <td>17:54:26.010000</td>\n",
       "      <td>04:02:36.842000</td>\n",
       "      <td>375.0</td>\n",
       "      <td>Grove St at Masonic Ave</td>\n",
       "      <td>37.774836</td>\n",
       "      <td>-122.446546</td>\n",
       "      <td>70.0</td>\n",
       "      <td>Central Ave at Fell St</td>\n",
       "      <td>37.773311</td>\n",
       "      <td>-122.444293</td>\n",
       "      <td>6638</td>\n",
       "      <td>Subscriber</td>\n",
       "      <td>1989.0</td>\n",
       "      <td>Other</td>\n",
       "      <td>No</td>\n",
       "      <td>2019-02-28</td>\n",
       "      <td>2019-03-01</td>\n",
       "      <td>Thursday</td>\n",
       "      <td>Friday</td>\n",
       "    </tr>\n",
       "    <tr>\n",
       "      <th>4</th>\n",
       "      <td>1585</td>\n",
       "      <td>23:54:18.549000</td>\n",
       "      <td>00:20:44.074000</td>\n",
       "      <td>7.0</td>\n",
       "      <td>Frank H Ogawa Plaza</td>\n",
       "      <td>37.804562</td>\n",
       "      <td>-122.271738</td>\n",
       "      <td>222.0</td>\n",
       "      <td>10th Ave at E 15th St</td>\n",
       "      <td>37.792714</td>\n",
       "      <td>-122.248780</td>\n",
       "      <td>4898</td>\n",
       "      <td>Subscriber</td>\n",
       "      <td>1974.0</td>\n",
       "      <td>Male</td>\n",
       "      <td>Yes</td>\n",
       "      <td>2019-02-28</td>\n",
       "      <td>2019-03-01</td>\n",
       "      <td>Thursday</td>\n",
       "      <td>Friday</td>\n",
       "    </tr>\n",
       "    <tr>\n",
       "      <th>5</th>\n",
       "      <td>1793</td>\n",
       "      <td>23:49:58.632000</td>\n",
       "      <td>00:19:51.760000</td>\n",
       "      <td>93.0</td>\n",
       "      <td>4th St at Mission Bay Blvd S</td>\n",
       "      <td>37.770407</td>\n",
       "      <td>-122.391198</td>\n",
       "      <td>323.0</td>\n",
       "      <td>Broadway at Kearny</td>\n",
       "      <td>37.798014</td>\n",
       "      <td>-122.405950</td>\n",
       "      <td>5200</td>\n",
       "      <td>Subscriber</td>\n",
       "      <td>1959.0</td>\n",
       "      <td>Male</td>\n",
       "      <td>No</td>\n",
       "      <td>2019-02-28</td>\n",
       "      <td>2019-03-01</td>\n",
       "      <td>Thursday</td>\n",
       "      <td>Friday</td>\n",
       "    </tr>\n",
       "    <tr>\n",
       "      <th>6</th>\n",
       "      <td>1147</td>\n",
       "      <td>23:55:35.104000</td>\n",
       "      <td>00:14:42.588000</td>\n",
       "      <td>300.0</td>\n",
       "      <td>Palm St at Willow St</td>\n",
       "      <td>37.317298</td>\n",
       "      <td>-121.884995</td>\n",
       "      <td>312.0</td>\n",
       "      <td>San Jose Diridon Station</td>\n",
       "      <td>37.329732</td>\n",
       "      <td>-121.901782</td>\n",
       "      <td>3803</td>\n",
       "      <td>Subscriber</td>\n",
       "      <td>1983.0</td>\n",
       "      <td>Female</td>\n",
       "      <td>No</td>\n",
       "      <td>2019-02-28</td>\n",
       "      <td>2019-03-01</td>\n",
       "      <td>Thursday</td>\n",
       "      <td>Friday</td>\n",
       "    </tr>\n",
       "    <tr>\n",
       "      <th>7</th>\n",
       "      <td>1615</td>\n",
       "      <td>23:41:06.766000</td>\n",
       "      <td>00:08:02.756000</td>\n",
       "      <td>10.0</td>\n",
       "      <td>Washington St at Kearny St</td>\n",
       "      <td>37.795393</td>\n",
       "      <td>-122.404770</td>\n",
       "      <td>127.0</td>\n",
       "      <td>Valencia St at 21st St</td>\n",
       "      <td>37.756708</td>\n",
       "      <td>-122.421025</td>\n",
       "      <td>6329</td>\n",
       "      <td>Subscriber</td>\n",
       "      <td>1989.0</td>\n",
       "      <td>Male</td>\n",
       "      <td>No</td>\n",
       "      <td>2019-02-28</td>\n",
       "      <td>2019-03-01</td>\n",
       "      <td>Thursday</td>\n",
       "      <td>Friday</td>\n",
       "    </tr>\n",
       "    <tr>\n",
       "      <th>8</th>\n",
       "      <td>1570</td>\n",
       "      <td>23:41:48.790000</td>\n",
       "      <td>00:07:59.715000</td>\n",
       "      <td>10.0</td>\n",
       "      <td>Washington St at Kearny St</td>\n",
       "      <td>37.795393</td>\n",
       "      <td>-122.404770</td>\n",
       "      <td>127.0</td>\n",
       "      <td>Valencia St at 21st St</td>\n",
       "      <td>37.756708</td>\n",
       "      <td>-122.421025</td>\n",
       "      <td>6548</td>\n",
       "      <td>Subscriber</td>\n",
       "      <td>1988.0</td>\n",
       "      <td>Other</td>\n",
       "      <td>No</td>\n",
       "      <td>2019-02-28</td>\n",
       "      <td>2019-03-01</td>\n",
       "      <td>Thursday</td>\n",
       "      <td>Friday</td>\n",
       "    </tr>\n",
       "    <tr>\n",
       "      <th>9</th>\n",
       "      <td>1049</td>\n",
       "      <td>23:49:47.699000</td>\n",
       "      <td>00:07:17.025000</td>\n",
       "      <td>19.0</td>\n",
       "      <td>Post St at Kearny St</td>\n",
       "      <td>37.788975</td>\n",
       "      <td>-122.403452</td>\n",
       "      <td>121.0</td>\n",
       "      <td>Mission Playground</td>\n",
       "      <td>37.759210</td>\n",
       "      <td>-122.421339</td>\n",
       "      <td>6488</td>\n",
       "      <td>Subscriber</td>\n",
       "      <td>1992.0</td>\n",
       "      <td>Male</td>\n",
       "      <td>No</td>\n",
       "      <td>2019-02-28</td>\n",
       "      <td>2019-03-01</td>\n",
       "      <td>Thursday</td>\n",
       "      <td>Friday</td>\n",
       "    </tr>\n",
       "  </tbody>\n",
       "</table>\n",
       "</div>"
      ],
      "text/plain": [
       "   duration_sec       start_time         end_time  start_station_id  \\\n",
       "0         52185  17:32:10.145000  08:01:55.975000              21.0   \n",
       "1         42521  18:53:21.789000  06:42:03.056000              23.0   \n",
       "2         61854  12:13:13.218000  05:24:08.146000              86.0   \n",
       "3         36490  17:54:26.010000  04:02:36.842000             375.0   \n",
       "4          1585  23:54:18.549000  00:20:44.074000               7.0   \n",
       "5          1793  23:49:58.632000  00:19:51.760000              93.0   \n",
       "6          1147  23:55:35.104000  00:14:42.588000             300.0   \n",
       "7          1615  23:41:06.766000  00:08:02.756000              10.0   \n",
       "8          1570  23:41:48.790000  00:07:59.715000              10.0   \n",
       "9          1049  23:49:47.699000  00:07:17.025000              19.0   \n",
       "\n",
       "                                 start_station_name  start_station_latitude  \\\n",
       "0  Montgomery St BART Station (Market St at 2nd St)               37.789625   \n",
       "1                     The Embarcadero at Steuart St               37.791464   \n",
       "2                           Market St at Dolores St               37.769305   \n",
       "3                           Grove St at Masonic Ave               37.774836   \n",
       "4                               Frank H Ogawa Plaza               37.804562   \n",
       "5                      4th St at Mission Bay Blvd S               37.770407   \n",
       "6                              Palm St at Willow St               37.317298   \n",
       "7                        Washington St at Kearny St               37.795393   \n",
       "8                        Washington St at Kearny St               37.795393   \n",
       "9                              Post St at Kearny St               37.788975   \n",
       "\n",
       "   start_station_longitude  end_station_id  \\\n",
       "0              -122.400811            13.0   \n",
       "1              -122.391034            81.0   \n",
       "2              -122.426826             3.0   \n",
       "3              -122.446546            70.0   \n",
       "4              -122.271738           222.0   \n",
       "5              -122.391198           323.0   \n",
       "6              -121.884995           312.0   \n",
       "7              -122.404770           127.0   \n",
       "8              -122.404770           127.0   \n",
       "9              -122.403452           121.0   \n",
       "\n",
       "                               end_station_name  end_station_latitude  \\\n",
       "0                Commercial St at Montgomery St             37.794231   \n",
       "1                            Berry St at 4th St             37.775880   \n",
       "2  Powell St BART Station (Market St at 4th St)             37.786375   \n",
       "3                        Central Ave at Fell St             37.773311   \n",
       "4                         10th Ave at E 15th St             37.792714   \n",
       "5                            Broadway at Kearny             37.798014   \n",
       "6                      San Jose Diridon Station             37.329732   \n",
       "7                        Valencia St at 21st St             37.756708   \n",
       "8                        Valencia St at 21st St             37.756708   \n",
       "9                            Mission Playground             37.759210   \n",
       "\n",
       "   end_station_longitude  bike_id   user_type  member_birth_year  \\\n",
       "0            -122.402923     4902    Customer             1984.0   \n",
       "1            -122.393170     2535    Customer                NaN   \n",
       "2            -122.404904     5905    Customer             1972.0   \n",
       "3            -122.444293     6638  Subscriber             1989.0   \n",
       "4            -122.248780     4898  Subscriber             1974.0   \n",
       "5            -122.405950     5200  Subscriber             1959.0   \n",
       "6            -121.901782     3803  Subscriber             1983.0   \n",
       "7            -122.421025     6329  Subscriber             1989.0   \n",
       "8            -122.421025     6548  Subscriber             1988.0   \n",
       "9            -122.421339     6488  Subscriber             1992.0   \n",
       "\n",
       "  member_gender bike_share_for_all_trip  start_date    end_date start_day  \\\n",
       "0          Male                      No  2019-02-28  2019-03-01  Thursday   \n",
       "1           NaN                      No  2019-02-28  2019-03-01  Thursday   \n",
       "2          Male                      No  2019-02-28  2019-03-01  Thursday   \n",
       "3         Other                      No  2019-02-28  2019-03-01  Thursday   \n",
       "4          Male                     Yes  2019-02-28  2019-03-01  Thursday   \n",
       "5          Male                      No  2019-02-28  2019-03-01  Thursday   \n",
       "6        Female                      No  2019-02-28  2019-03-01  Thursday   \n",
       "7          Male                      No  2019-02-28  2019-03-01  Thursday   \n",
       "8         Other                      No  2019-02-28  2019-03-01  Thursday   \n",
       "9          Male                      No  2019-02-28  2019-03-01  Thursday   \n",
       "\n",
       "  end_day  \n",
       "0  Friday  \n",
       "1  Friday  \n",
       "2  Friday  \n",
       "3  Friday  \n",
       "4  Friday  \n",
       "5  Friday  \n",
       "6  Friday  \n",
       "7  Friday  \n",
       "8  Friday  \n",
       "9  Friday  "
      ]
     },
     "execution_count": 7,
     "metadata": {},
     "output_type": "execute_result"
    }
   ],
   "source": [
    "# Create a new column containing the date, time, and day of the week of both start and end times\n",
    "\n",
    "# Date\n",
    "df['start_date'] = pd.to_datetime(df['start_time']).dt.date\n",
    "df['end_date'] = pd.to_datetime(df['end_time']).dt.date\n",
    "\n",
    "# Day of the week\n",
    "df['start_day'] = pd.to_datetime(df['start_time']).dt.day_name()\n",
    "df['end_day'] = pd.to_datetime(df['end_time']).dt.day_name()\n",
    "\n",
    "# Time\n",
    "df['start_time'] = pd.to_datetime(df['start_time']).dt.time\n",
    "df['end_time'] = pd.to_datetime(df['end_time']).dt.time\n",
    "\n",
    "df.head(10)"
   ]
  },
  {
   "cell_type": "code",
   "execution_count": 8,
   "metadata": {},
   "outputs": [
    {
     "data": {
      "text/plain": [
       "duration_sec                  0\n",
       "start_time                    0\n",
       "end_time                      0\n",
       "start_station_id            197\n",
       "start_station_name          197\n",
       "start_station_latitude        0\n",
       "start_station_longitude       0\n",
       "end_station_id              197\n",
       "end_station_name            197\n",
       "end_station_latitude          0\n",
       "end_station_longitude         0\n",
       "bike_id                       0\n",
       "user_type                     0\n",
       "member_birth_year          8265\n",
       "member_gender              8265\n",
       "bike_share_for_all_trip       0\n",
       "start_date                    0\n",
       "end_date                      0\n",
       "start_day                     0\n",
       "end_day                       0\n",
       "dtype: int64"
      ]
     },
     "execution_count": 8,
     "metadata": {},
     "output_type": "execute_result"
    }
   ],
   "source": [
    "# The sum of null values\n",
    "df.isnull().sum()"
   ]
  },
  {
   "cell_type": "code",
   "execution_count": 9,
   "metadata": {},
   "outputs": [
    {
     "name": "stdout",
     "output_type": "stream",
     "text": [
      "<class 'pandas.core.frame.DataFrame'>\n",
      "Int64Index: 175147 entries, 0 to 183411\n",
      "Data columns (total 20 columns):\n",
      "duration_sec               175147 non-null int64\n",
      "start_time                 175147 non-null object\n",
      "end_time                   175147 non-null object\n",
      "start_station_id           174952 non-null float64\n",
      "start_station_name         174952 non-null object\n",
      "start_station_latitude     175147 non-null float64\n",
      "start_station_longitude    175147 non-null float64\n",
      "end_station_id             174952 non-null float64\n",
      "end_station_name           174952 non-null object\n",
      "end_station_latitude       175147 non-null float64\n",
      "end_station_longitude      175147 non-null float64\n",
      "bike_id                    175147 non-null int64\n",
      "user_type                  175147 non-null object\n",
      "member_birth_year          175147 non-null float64\n",
      "member_gender              175147 non-null object\n",
      "bike_share_for_all_trip    175147 non-null object\n",
      "start_date                 175147 non-null object\n",
      "end_date                   175147 non-null object\n",
      "start_day                  175147 non-null object\n",
      "end_day                    175147 non-null object\n",
      "dtypes: float64(7), int64(2), object(11)\n",
      "memory usage: 28.1+ MB\n"
     ]
    }
   ],
   "source": [
    "# Remove rows that does not have gender value\n",
    "df = df[df['member_gender'].isnull() == False]\n",
    "df.info()"
   ]
  },
  {
   "cell_type": "code",
   "execution_count": 10,
   "metadata": {},
   "outputs": [
    {
     "data": {
      "text/plain": [
       "duration_sec                 0\n",
       "start_time                   0\n",
       "end_time                     0\n",
       "start_station_id           195\n",
       "start_station_name         195\n",
       "start_station_latitude       0\n",
       "start_station_longitude      0\n",
       "end_station_id             195\n",
       "end_station_name           195\n",
       "end_station_latitude         0\n",
       "end_station_longitude        0\n",
       "bike_id                      0\n",
       "user_type                    0\n",
       "member_birth_year            0\n",
       "member_gender                0\n",
       "bike_share_for_all_trip      0\n",
       "start_date                   0\n",
       "end_date                     0\n",
       "start_day                    0\n",
       "end_day                      0\n",
       "dtype: int64"
      ]
     },
     "execution_count": 10,
     "metadata": {},
     "output_type": "execute_result"
    }
   ],
   "source": [
    "df.isnull().sum()"
   ]
  },
  {
   "cell_type": "code",
   "execution_count": 11,
   "metadata": {},
   "outputs": [
    {
     "data": {
      "text/plain": [
       "duration_sec               0\n",
       "start_time                 0\n",
       "end_time                   0\n",
       "start_station_id           0\n",
       "start_station_name         0\n",
       "start_station_latitude     0\n",
       "start_station_longitude    0\n",
       "end_station_id             0\n",
       "end_station_name           0\n",
       "end_station_latitude       0\n",
       "end_station_longitude      0\n",
       "bike_id                    0\n",
       "user_type                  0\n",
       "member_birth_year          0\n",
       "member_gender              0\n",
       "bike_share_for_all_trip    0\n",
       "start_date                 0\n",
       "end_date                   0\n",
       "start_day                  0\n",
       "end_day                    0\n",
       "dtype: int64"
      ]
     },
     "execution_count": 11,
     "metadata": {},
     "output_type": "execute_result"
    }
   ],
   "source": [
    "# Remove rows that does not have start_station_id\n",
    "df = df[df['start_station_id'].isnull() == False]\n",
    "df.isnull().sum()"
   ]
  },
  {
   "cell_type": "code",
   "execution_count": 12,
   "metadata": {},
   "outputs": [
    {
     "name": "stdout",
     "output_type": "stream",
     "text": [
      "<class 'pandas.core.frame.DataFrame'>\n",
      "Int64Index: 174952 entries, 0 to 183411\n",
      "Data columns (total 20 columns):\n",
      "duration_sec               174952 non-null int64\n",
      "start_time                 174952 non-null object\n",
      "end_time                   174952 non-null object\n",
      "start_station_id           174952 non-null int64\n",
      "start_station_name         174952 non-null object\n",
      "start_station_latitude     174952 non-null float64\n",
      "start_station_longitude    174952 non-null float64\n",
      "end_station_id             174952 non-null int64\n",
      "end_station_name           174952 non-null object\n",
      "end_station_latitude       174952 non-null float64\n",
      "end_station_longitude      174952 non-null float64\n",
      "bike_id                    174952 non-null int64\n",
      "user_type                  174952 non-null object\n",
      "member_birth_year          174952 non-null float64\n",
      "member_gender              174952 non-null object\n",
      "bike_share_for_all_trip    174952 non-null object\n",
      "start_date                 174952 non-null object\n",
      "end_date                   174952 non-null object\n",
      "start_day                  174952 non-null object\n",
      "end_day                    174952 non-null object\n",
      "dtypes: float64(5), int64(4), object(11)\n",
      "memory usage: 28.0+ MB\n"
     ]
    }
   ],
   "source": [
    "# Change the data type of start and end station id to integer\n",
    "df = df.astype({\"start_station_id\":\"int\",\"end_station_id\":\"int\"})\n",
    "df.info()"
   ]
  },
  {
   "cell_type": "code",
   "execution_count": 13,
   "metadata": {},
   "outputs": [
    {
     "data": {
      "text/plain": [
       "0"
      ]
     },
     "execution_count": 13,
     "metadata": {},
     "output_type": "execute_result"
    }
   ],
   "source": [
    "# Check for duplicated values\n",
    "df.duplicated().sum()"
   ]
  },
  {
   "cell_type": "code",
   "execution_count": 14,
   "metadata": {},
   "outputs": [],
   "source": [
    "# Change the data type for bike_share_for_all_trip to be bool\n",
    "df.bike_share_for_all_trip = (df.bike_share_for_all_trip == 'Yes')"
   ]
  },
  {
   "cell_type": "code",
   "execution_count": 15,
   "metadata": {},
   "outputs": [
    {
     "name": "stdout",
     "output_type": "stream",
     "text": [
      "<class 'pandas.core.frame.DataFrame'>\n",
      "Int64Index: 174952 entries, 0 to 183411\n",
      "Data columns (total 20 columns):\n",
      "duration_sec               174952 non-null int64\n",
      "start_time                 174952 non-null object\n",
      "end_time                   174952 non-null object\n",
      "start_station_id           174952 non-null int64\n",
      "start_station_name         174952 non-null object\n",
      "start_station_latitude     174952 non-null float64\n",
      "start_station_longitude    174952 non-null float64\n",
      "end_station_id             174952 non-null int64\n",
      "end_station_name           174952 non-null object\n",
      "end_station_latitude       174952 non-null float64\n",
      "end_station_longitude      174952 non-null float64\n",
      "bike_id                    174952 non-null int64\n",
      "user_type                  174952 non-null object\n",
      "member_birth_year          174952 non-null float64\n",
      "member_gender              174952 non-null object\n",
      "bike_share_for_all_trip    174952 non-null bool\n",
      "start_date                 174952 non-null object\n",
      "end_date                   174952 non-null object\n",
      "start_day                  174952 non-null object\n",
      "end_day                    174952 non-null object\n",
      "dtypes: bool(1), float64(5), int64(4), object(10)\n",
      "memory usage: 26.9+ MB\n"
     ]
    }
   ],
   "source": [
    "df.info()"
   ]
  },
  {
   "cell_type": "code",
   "execution_count": 16,
   "metadata": {},
   "outputs": [
    {
     "data": {
      "text/plain": [
       "(174952, 20)"
      ]
     },
     "execution_count": 16,
     "metadata": {},
     "output_type": "execute_result"
    }
   ],
   "source": [
    "df.shape"
   ]
  },
  {
   "cell_type": "code",
   "execution_count": 17,
   "metadata": {},
   "outputs": [
    {
     "data": {
      "text/plain": [
       "Subscriber    158386\n",
       "Customer       16566\n",
       "Name: user_type, dtype: int64"
      ]
     },
     "execution_count": 17,
     "metadata": {},
     "output_type": "execute_result"
    }
   ],
   "source": [
    "df.user_type.value_counts()"
   ]
  },
  {
   "cell_type": "code",
   "execution_count": 18,
   "metadata": {},
   "outputs": [],
   "source": [
    "# Create column age to investigate it further by subtracting 2019, where the data was first published, from the birth year\n",
    "df['age'] = 2019 - df['member_birth_year']"
   ]
  },
  {
   "cell_type": "code",
   "execution_count": 19,
   "metadata": {},
   "outputs": [
    {
     "data": {
      "text/plain": [
       "88042     44.0\n",
       "134816    55.0\n",
       "124885    36.0\n",
       "125478    28.0\n",
       "134975    40.0\n",
       "83790     33.0\n",
       "151243    36.0\n",
       "19174     34.0\n",
       "52205     37.0\n",
       "82249     25.0\n",
       "Name: age, dtype: float64"
      ]
     },
     "execution_count": 19,
     "metadata": {},
     "output_type": "execute_result"
    }
   ],
   "source": [
    "df['age'].sample(10)"
   ]
  },
  {
   "cell_type": "code",
   "execution_count": 20,
   "metadata": {},
   "outputs": [
    {
     "data": {
      "text/plain": [
       "78548     33\n",
       "154594    40\n",
       "14956     33\n",
       "182903    44\n",
       "33224     30\n",
       "Name: age, dtype: int64"
      ]
     },
     "execution_count": 20,
     "metadata": {},
     "output_type": "execute_result"
    }
   ],
   "source": [
    "df['age'] = df['age'].astype('int64')\n",
    "df['age'].sample(5)"
   ]
  },
  {
   "cell_type": "code",
   "execution_count": 21,
   "metadata": {},
   "outputs": [
    {
     "name": "stdout",
     "output_type": "stream",
     "text": [
      "18 141\n"
     ]
    }
   ],
   "source": [
    "print(df['age'].min(), df['age'].max())"
   ]
  },
  {
   "cell_type": "markdown",
   "metadata": {},
   "source": [
    "The maximum age value shows that some of the registered birth year are incorrect, thus we will drop the rows with the age value > 100."
   ]
  },
  {
   "cell_type": "code",
   "execution_count": 22,
   "metadata": {},
   "outputs": [
    {
     "data": {
      "text/plain": [
       "duration_sec               72\n",
       "start_time                 72\n",
       "end_time                   72\n",
       "start_station_id           72\n",
       "start_station_name         72\n",
       "start_station_latitude     72\n",
       "start_station_longitude    72\n",
       "end_station_id             72\n",
       "end_station_name           72\n",
       "end_station_latitude       72\n",
       "end_station_longitude      72\n",
       "bike_id                    72\n",
       "user_type                  72\n",
       "member_birth_year          72\n",
       "member_gender              72\n",
       "bike_share_for_all_trip    72\n",
       "start_date                 72\n",
       "end_date                   72\n",
       "start_day                  72\n",
       "end_day                    72\n",
       "age                        72\n",
       "dtype: int64"
      ]
     },
     "execution_count": 22,
     "metadata": {},
     "output_type": "execute_result"
    }
   ],
   "source": [
    "df[df['age'] > 100].count()"
   ]
  },
  {
   "cell_type": "code",
   "execution_count": 23,
   "metadata": {},
   "outputs": [
    {
     "data": {
      "text/html": [
       "<div>\n",
       "<style scoped>\n",
       "    .dataframe tbody tr th:only-of-type {\n",
       "        vertical-align: middle;\n",
       "    }\n",
       "\n",
       "    .dataframe tbody tr th {\n",
       "        vertical-align: top;\n",
       "    }\n",
       "\n",
       "    .dataframe thead th {\n",
       "        text-align: right;\n",
       "    }\n",
       "</style>\n",
       "<table border=\"1\" class=\"dataframe\">\n",
       "  <thead>\n",
       "    <tr style=\"text-align: right;\">\n",
       "      <th></th>\n",
       "      <th>duration_sec</th>\n",
       "      <th>start_time</th>\n",
       "      <th>end_time</th>\n",
       "      <th>start_station_id</th>\n",
       "      <th>start_station_name</th>\n",
       "      <th>start_station_latitude</th>\n",
       "      <th>start_station_longitude</th>\n",
       "      <th>end_station_id</th>\n",
       "      <th>end_station_name</th>\n",
       "      <th>end_station_latitude</th>\n",
       "      <th>...</th>\n",
       "      <th>bike_id</th>\n",
       "      <th>user_type</th>\n",
       "      <th>member_birth_year</th>\n",
       "      <th>member_gender</th>\n",
       "      <th>bike_share_for_all_trip</th>\n",
       "      <th>start_date</th>\n",
       "      <th>end_date</th>\n",
       "      <th>start_day</th>\n",
       "      <th>end_day</th>\n",
       "      <th>age</th>\n",
       "    </tr>\n",
       "  </thead>\n",
       "  <tbody>\n",
       "    <tr>\n",
       "      <th>0</th>\n",
       "      <td>52185</td>\n",
       "      <td>17:32:10.145000</td>\n",
       "      <td>08:01:55.975000</td>\n",
       "      <td>21</td>\n",
       "      <td>Montgomery St BART Station (Market St at 2nd St)</td>\n",
       "      <td>37.789625</td>\n",
       "      <td>-122.400811</td>\n",
       "      <td>13</td>\n",
       "      <td>Commercial St at Montgomery St</td>\n",
       "      <td>37.794231</td>\n",
       "      <td>...</td>\n",
       "      <td>4902</td>\n",
       "      <td>Customer</td>\n",
       "      <td>1984.0</td>\n",
       "      <td>Male</td>\n",
       "      <td>False</td>\n",
       "      <td>2019-02-28</td>\n",
       "      <td>2019-03-01</td>\n",
       "      <td>Thursday</td>\n",
       "      <td>Friday</td>\n",
       "      <td>35</td>\n",
       "    </tr>\n",
       "    <tr>\n",
       "      <th>2</th>\n",
       "      <td>61854</td>\n",
       "      <td>12:13:13.218000</td>\n",
       "      <td>05:24:08.146000</td>\n",
       "      <td>86</td>\n",
       "      <td>Market St at Dolores St</td>\n",
       "      <td>37.769305</td>\n",
       "      <td>-122.426826</td>\n",
       "      <td>3</td>\n",
       "      <td>Powell St BART Station (Market St at 4th St)</td>\n",
       "      <td>37.786375</td>\n",
       "      <td>...</td>\n",
       "      <td>5905</td>\n",
       "      <td>Customer</td>\n",
       "      <td>1972.0</td>\n",
       "      <td>Male</td>\n",
       "      <td>False</td>\n",
       "      <td>2019-02-28</td>\n",
       "      <td>2019-03-01</td>\n",
       "      <td>Thursday</td>\n",
       "      <td>Friday</td>\n",
       "      <td>47</td>\n",
       "    </tr>\n",
       "    <tr>\n",
       "      <th>3</th>\n",
       "      <td>36490</td>\n",
       "      <td>17:54:26.010000</td>\n",
       "      <td>04:02:36.842000</td>\n",
       "      <td>375</td>\n",
       "      <td>Grove St at Masonic Ave</td>\n",
       "      <td>37.774836</td>\n",
       "      <td>-122.446546</td>\n",
       "      <td>70</td>\n",
       "      <td>Central Ave at Fell St</td>\n",
       "      <td>37.773311</td>\n",
       "      <td>...</td>\n",
       "      <td>6638</td>\n",
       "      <td>Subscriber</td>\n",
       "      <td>1989.0</td>\n",
       "      <td>Other</td>\n",
       "      <td>False</td>\n",
       "      <td>2019-02-28</td>\n",
       "      <td>2019-03-01</td>\n",
       "      <td>Thursday</td>\n",
       "      <td>Friday</td>\n",
       "      <td>30</td>\n",
       "    </tr>\n",
       "    <tr>\n",
       "      <th>4</th>\n",
       "      <td>1585</td>\n",
       "      <td>23:54:18.549000</td>\n",
       "      <td>00:20:44.074000</td>\n",
       "      <td>7</td>\n",
       "      <td>Frank H Ogawa Plaza</td>\n",
       "      <td>37.804562</td>\n",
       "      <td>-122.271738</td>\n",
       "      <td>222</td>\n",
       "      <td>10th Ave at E 15th St</td>\n",
       "      <td>37.792714</td>\n",
       "      <td>...</td>\n",
       "      <td>4898</td>\n",
       "      <td>Subscriber</td>\n",
       "      <td>1974.0</td>\n",
       "      <td>Male</td>\n",
       "      <td>True</td>\n",
       "      <td>2019-02-28</td>\n",
       "      <td>2019-03-01</td>\n",
       "      <td>Thursday</td>\n",
       "      <td>Friday</td>\n",
       "      <td>45</td>\n",
       "    </tr>\n",
       "    <tr>\n",
       "      <th>5</th>\n",
       "      <td>1793</td>\n",
       "      <td>23:49:58.632000</td>\n",
       "      <td>00:19:51.760000</td>\n",
       "      <td>93</td>\n",
       "      <td>4th St at Mission Bay Blvd S</td>\n",
       "      <td>37.770407</td>\n",
       "      <td>-122.391198</td>\n",
       "      <td>323</td>\n",
       "      <td>Broadway at Kearny</td>\n",
       "      <td>37.798014</td>\n",
       "      <td>...</td>\n",
       "      <td>5200</td>\n",
       "      <td>Subscriber</td>\n",
       "      <td>1959.0</td>\n",
       "      <td>Male</td>\n",
       "      <td>False</td>\n",
       "      <td>2019-02-28</td>\n",
       "      <td>2019-03-01</td>\n",
       "      <td>Thursday</td>\n",
       "      <td>Friday</td>\n",
       "      <td>60</td>\n",
       "    </tr>\n",
       "  </tbody>\n",
       "</table>\n",
       "<p>5 rows × 21 columns</p>\n",
       "</div>"
      ],
      "text/plain": [
       "   duration_sec       start_time         end_time  start_station_id  \\\n",
       "0         52185  17:32:10.145000  08:01:55.975000                21   \n",
       "2         61854  12:13:13.218000  05:24:08.146000                86   \n",
       "3         36490  17:54:26.010000  04:02:36.842000               375   \n",
       "4          1585  23:54:18.549000  00:20:44.074000                 7   \n",
       "5          1793  23:49:58.632000  00:19:51.760000                93   \n",
       "\n",
       "                                 start_station_name  start_station_latitude  \\\n",
       "0  Montgomery St BART Station (Market St at 2nd St)               37.789625   \n",
       "2                           Market St at Dolores St               37.769305   \n",
       "3                           Grove St at Masonic Ave               37.774836   \n",
       "4                               Frank H Ogawa Plaza               37.804562   \n",
       "5                      4th St at Mission Bay Blvd S               37.770407   \n",
       "\n",
       "   start_station_longitude  end_station_id  \\\n",
       "0              -122.400811              13   \n",
       "2              -122.426826               3   \n",
       "3              -122.446546              70   \n",
       "4              -122.271738             222   \n",
       "5              -122.391198             323   \n",
       "\n",
       "                               end_station_name  end_station_latitude ...  \\\n",
       "0                Commercial St at Montgomery St             37.794231 ...   \n",
       "2  Powell St BART Station (Market St at 4th St)             37.786375 ...   \n",
       "3                        Central Ave at Fell St             37.773311 ...   \n",
       "4                         10th Ave at E 15th St             37.792714 ...   \n",
       "5                            Broadway at Kearny             37.798014 ...   \n",
       "\n",
       "   bike_id   user_type member_birth_year  member_gender  \\\n",
       "0     4902    Customer            1984.0           Male   \n",
       "2     5905    Customer            1972.0           Male   \n",
       "3     6638  Subscriber            1989.0          Other   \n",
       "4     4898  Subscriber            1974.0           Male   \n",
       "5     5200  Subscriber            1959.0           Male   \n",
       "\n",
       "  bike_share_for_all_trip  start_date    end_date start_day end_day age  \n",
       "0                   False  2019-02-28  2019-03-01  Thursday  Friday  35  \n",
       "2                   False  2019-02-28  2019-03-01  Thursday  Friday  47  \n",
       "3                   False  2019-02-28  2019-03-01  Thursday  Friday  30  \n",
       "4                    True  2019-02-28  2019-03-01  Thursday  Friday  45  \n",
       "5                   False  2019-02-28  2019-03-01  Thursday  Friday  60  \n",
       "\n",
       "[5 rows x 21 columns]"
      ]
     },
     "execution_count": 23,
     "metadata": {},
     "output_type": "execute_result"
    }
   ],
   "source": [
    "df = df[df['age'] < 100]\n",
    "df.head()"
   ]
  },
  {
   "cell_type": "code",
   "execution_count": 24,
   "metadata": {},
   "outputs": [
    {
     "data": {
      "text/plain": [
       "duration_sec               0\n",
       "start_time                 0\n",
       "end_time                   0\n",
       "start_station_id           0\n",
       "start_station_name         0\n",
       "start_station_latitude     0\n",
       "start_station_longitude    0\n",
       "end_station_id             0\n",
       "end_station_name           0\n",
       "end_station_latitude       0\n",
       "end_station_longitude      0\n",
       "bike_id                    0\n",
       "user_type                  0\n",
       "member_birth_year          0\n",
       "member_gender              0\n",
       "bike_share_for_all_trip    0\n",
       "start_date                 0\n",
       "end_date                   0\n",
       "start_day                  0\n",
       "end_day                    0\n",
       "age                        0\n",
       "dtype: int64"
      ]
     },
     "execution_count": 24,
     "metadata": {},
     "output_type": "execute_result"
    }
   ],
   "source": [
    "df[df['age'] > 100].count()"
   ]
  },
  {
   "cell_type": "code",
   "execution_count": 25,
   "metadata": {},
   "outputs": [
    {
     "data": {
      "text/plain": [
       "(174880, 21)"
      ]
     },
     "execution_count": 25,
     "metadata": {},
     "output_type": "execute_result"
    }
   ],
   "source": [
    "df.shape"
   ]
  },
  {
   "cell_type": "markdown",
   "metadata": {},
   "source": [
    "### What is the structure of your dataset?\n",
    "\n",
    "> The dataset has 183412 bike rides that happened in the San Francisco Bay Area. The dataset has 16 features, some of them are:\n",
    "- `duration_sec`: The duration of the trip in seconds.\n",
    "- `start_time` and `end_time` for the bike rides.\n",
    "- `start_station_name` and `end_station_name`, as well as latitude and longitude.\n",
    "- `user_type` of either a subscriber or a customer.\n",
    "- Some information of the members such as their gender and birth year.\n",
    "\n",
    "> After my modifications the dataset has 174880 bike rides and 21 features. The added features are the `age`, `start_date`, `end_date`, `start_day`, and `end_day`, since I want to investigate them further.\n",
    "\n",
    "### What is/are the main feature(s) of interest in your dataset?\n",
    "\n",
    "> Some of the features of interest in this dataset are the duration of trips and its relation to other features like the user type, age, gender, and day of the week. Also, the most popular start and end stations.\n",
    "\n",
    "### What features in the dataset do you think will help support your investigation into your feature(s) of interest?\n",
    "\n",
    "> I expect that trip duration will have the strongest effect on each the start stations and end stations due to the crowded places which is expected to receive more rides. Another feature is the user type since I expect subscribers to spend more time on bikes than customers."
   ]
  },
  {
   "cell_type": "markdown",
   "metadata": {},
   "source": [
    "## Univariate Exploration\n",
    "\n",
    "> This section provides a descriptive summary of the distribution of some variables. It also includes visual representations, such as histograms and bar plots, to help understand the shape and spread of the data. The goal of this section is to identify patterns, anomalies, and potential issues in the data that could impact the results of further analysis."
   ]
  },
  {
   "cell_type": "markdown",
   "metadata": {},
   "source": [
    "### What is the distribution of `duration_sec`?"
   ]
  },
  {
   "cell_type": "code",
   "execution_count": 26,
   "metadata": {},
   "outputs": [
    {
     "data": {
      "text/plain": [
       "84548"
      ]
     },
     "execution_count": 26,
     "metadata": {},
     "output_type": "execute_result"
    }
   ],
   "source": [
    "max_duration = df['duration_sec'].max()\n",
    "max_duration"
   ]
  },
  {
   "cell_type": "code",
   "execution_count": 27,
   "metadata": {},
   "outputs": [
    {
     "data": {
      "text/plain": [
       "61"
      ]
     },
     "execution_count": 27,
     "metadata": {},
     "output_type": "execute_result"
    }
   ],
   "source": [
    "min_duration = df['duration_sec'].min()\n",
    "min_duration"
   ]
  },
  {
   "cell_type": "code",
   "execution_count": 28,
   "metadata": {},
   "outputs": [
    {
     "data": {
      "text/plain": [
       "704.02235818847214"
      ]
     },
     "execution_count": 28,
     "metadata": {},
     "output_type": "execute_result"
    }
   ],
   "source": [
    "avg_duration = df['duration_sec'].mean()\n",
    "avg_duration"
   ]
  },
  {
   "cell_type": "code",
   "execution_count": 29,
   "metadata": {},
   "outputs": [
    {
     "data": {
      "image/png": "[encoded data removed]",
      "text/plain": [
       "<matplotlib.figure.Figure at 0x7f249e1615c0>"
      ]
     },
     "metadata": {
      "needs_background": "light"
     },
     "output_type": "display_data"
    }
   ],
   "source": [
    "# Plot the histogram\n",
    "plt.figure(figsize = [8, 5])\n",
    "bin_size = 500\n",
    "plt.hist(data = df, x = 'duration_sec', bins = np.arange(0, max_duration + bin_size, bin_size))\n",
    "plt.xlim([0, 10000])\n",
    "\n",
    "# Add labels and formatting\n",
    "plt.xlabel('Trip Duration')\n",
    "plt.ylabel('Trip count')\n",
    "plt.title('Distribution of Trip Durations')\n",
    "\n",
    "plt.show()"
   ]
  },
  {
   "cell_type": "markdown",
   "metadata": {},
   "source": [
    "> There is a long tail in the distribution so we will put it in a logarthimic scale to make the distribution less skewed."
   ]
  },
  {
   "cell_type": "code",
   "execution_count": 30,
   "metadata": {},
   "outputs": [
    {
     "data": {
      "image/png": "[encoded data removed]",
      "text/plain": [
       "<matplotlib.figure.Figure at 0x7f24a16a9320>"
      ]
     },
     "metadata": {
      "needs_background": "light"
     },
     "output_type": "display_data"
    }
   ],
   "source": [
    "log_binsize = 0.025\n",
    "bins = 10 ** np.arange(2.4, np.log10(max_duration) + log_binsize, log_binsize)\n",
    "\n",
    "plt.figure(figsize=[8, 5])\n",
    "plt.hist(data = df, x = 'duration_sec', bins = bins)\n",
    "plt.xscale('log')\n",
    "plt.xticks([500, 1e3, 2e3, 5e3, 1e4, 2e4], [500, '1k', '2k', '5k', '10k', '20k'])\n",
    "\n",
    "# Add labels and formatting\n",
    "plt.xlabel('Trip Duration')\n",
    "plt.ylabel('Trip count')\n",
    "plt.title('Distribution of Trip Durations')\n",
    "plt.show()"
   ]
  },
  {
   "cell_type": "markdown",
   "metadata": {},
   "source": [
    "Most of the trip duration is focused in the lower spectrum. The majority of the numbers are less than 2k seconds, with the peak being about 600 seconds. When plotted on a log-scale, the distribution of trip durations looks right-skewed unimodal distribution. Overall, we conclude that trip durations are short on average."
   ]
  },
  {
   "cell_type": "markdown",
   "metadata": {},
   "source": [
    "### What is the distribution of `user_type`?"
   ]
  },
  {
   "cell_type": "code",
   "execution_count": 31,
   "metadata": {},
   "outputs": [],
   "source": [
    "# Create a function to display the bar plots and prevent repetitive code\n",
    "\n",
    "def create_bar_plot(df, x, order = None, color = None):\n",
    "    plt.figure(figsize = [8, 5])\n",
    "    plot = sb.countplot(data = df, x = x, order = order, color = color)\n",
    "    plt.xlabel(f'{x}')"
   ]
  },
  {
   "cell_type": "code",
   "execution_count": 32,
   "metadata": {},
   "outputs": [
    {
     "data": {
      "text/plain": [
       "Subscriber    158319\n",
       "Customer       16561\n",
       "Name: user_type, dtype: int64"
      ]
     },
     "execution_count": 32,
     "metadata": {},
     "output_type": "execute_result"
    }
   ],
   "source": [
    "df['user_type'].value_counts()"
   ]
  },
  {
   "cell_type": "code",
   "execution_count": 33,
   "metadata": {},
   "outputs": [
    {
     "data": {
      "image/png": "[encoded data removed]",
      "text/plain": [
       "<matplotlib.figure.Figure at 0x7f249d9cd828>"
      ]
     },
     "metadata": {
      "needs_background": "light"
     },
     "output_type": "display_data"
    }
   ],
   "source": [
    "create_bar_plot(df, x = 'user_type')\n",
    "plt.ylabel('Number of Users')\n",
    "plt.title(\"User Distribution Based on Their Type\")\n",
    "\n",
    "plt.show()"
   ]
  },
  {
   "cell_type": "markdown",
   "metadata": {},
   "source": [
    "Most of the users are subscribers with a total of 158386, whereas the customers are way less with a total of 16566. This shows that the majority users of Ford Gobike system are subscribers."
   ]
  },
  {
   "cell_type": "markdown",
   "metadata": {},
   "source": [
    "### What is the distribution of user's `age`?"
   ]
  },
  {
   "cell_type": "code",
   "execution_count": 34,
   "metadata": {},
   "outputs": [
    {
     "data": {
      "text/plain": [
       "18"
      ]
     },
     "execution_count": 34,
     "metadata": {},
     "output_type": "execute_result"
    }
   ],
   "source": [
    "df['age'].min()"
   ]
  },
  {
   "cell_type": "code",
   "execution_count": 35,
   "metadata": {},
   "outputs": [
    {
     "data": {
      "text/plain": [
       "99"
      ]
     },
     "execution_count": 35,
     "metadata": {},
     "output_type": "execute_result"
    }
   ],
   "source": [
    "df['age'].max()"
   ]
  },
  {
   "cell_type": "code",
   "execution_count": 36,
   "metadata": {},
   "outputs": [
    {
     "data": {
      "text/plain": [
       "34.162042543458369"
      ]
     },
     "execution_count": 36,
     "metadata": {},
     "output_type": "execute_result"
    }
   ],
   "source": [
    "df['age'].mean()"
   ]
  },
  {
   "cell_type": "code",
   "execution_count": 37,
   "metadata": {},
   "outputs": [
    {
     "data": {
      "image/png": "[encoded data removed]",
      "text/plain": [
       "<matplotlib.figure.Figure at 0x7f249abc1ac8>"
      ]
     },
     "metadata": {
      "needs_background": "light"
     },
     "output_type": "display_data"
    }
   ],
   "source": [
    "plt.figure(figsize = [8, 5])\n",
    "plot = df['age'].hist(bins = 20)\n",
    "plt.xlabel('User Age')\n",
    "plt.ylabel('Number of Users')\n",
    "plt.title(\"User Distribution Based on Their Age\")\n",
    "\n",
    "plt.show()"
   ]
  },
  {
   "cell_type": "markdown",
   "metadata": {},
   "source": [
    "Most users are aged between 22 and 40 with the average being 34. This shows that most users are young."
   ]
  },
  {
   "cell_type": "markdown",
   "metadata": {},
   "source": [
    "### What is the distribution of user's `gender`?"
   ]
  },
  {
   "cell_type": "code",
   "execution_count": 38,
   "metadata": {},
   "outputs": [
    {
     "data": {
      "text/plain": [
       "Male      130443\n",
       "Female     40791\n",
       "Other       3646\n",
       "Name: member_gender, dtype: int64"
      ]
     },
     "execution_count": 38,
     "metadata": {},
     "output_type": "execute_result"
    }
   ],
   "source": [
    "df['member_gender'].value_counts()"
   ]
  },
  {
   "cell_type": "code",
   "execution_count": 39,
   "metadata": {},
   "outputs": [
    {
     "data": {
      "image/png": "[encoded data removed]",
      "text/plain": [
       "<matplotlib.figure.Figure at 0x7f249a9b25c0>"
      ]
     },
     "metadata": {
      "needs_background": "light"
     },
     "output_type": "display_data"
    }
   ],
   "source": [
    "# Use function `create_bar_plot` defined earlier\n",
    "\n",
    "create_bar_plot(df, x = 'member_gender', order = ['Male', 'Female', 'Other'])\n",
    "plt.ylabel('Number of Users')\n",
    "plt.title(\"User Distribution Based on Their Gender\")\n",
    "\n",
    "plt.show()"
   ]
  },
  {
   "cell_type": "markdown",
   "metadata": {},
   "source": [
    "From the plot, we can see that the majority of users are male with a total of 130443 male users. Female users come next with a total of 40791 female users."
   ]
  },
  {
   "cell_type": "markdown",
   "metadata": {},
   "source": [
    "### What are the top five start stations among users?"
   ]
  },
  {
   "cell_type": "code",
   "execution_count": 40,
   "metadata": {},
   "outputs": [
    {
     "data": {
      "text/plain": [
       "329"
      ]
     },
     "execution_count": 40,
     "metadata": {},
     "output_type": "execute_result"
    }
   ],
   "source": [
    "df['start_station_name'].nunique()"
   ]
  },
  {
   "cell_type": "code",
   "execution_count": 41,
   "metadata": {},
   "outputs": [
    {
     "data": {
      "text/plain": [
       "array(['Montgomery St BART Station (Market St at 2nd St)',\n",
       "       'Market St at Dolores St', 'Grove St at Masonic Ave',\n",
       "       'Frank H Ogawa Plaza', '4th St at Mission Bay Blvd S',\n",
       "       'Palm St at Willow St', 'Washington St at Kearny St',\n",
       "       'Post St at Kearny St', 'Jones St at Post St',\n",
       "       'Civic Center/UN Plaza BART Station (Market St at McAllister St)',\n",
       "       'Valencia St at 21st St', 'Bancroft Way at College Ave',\n",
       "       'Howard St at Mary St', '22nd St at Dolores St',\n",
       "       'Laguna St at Hayes St', '5th St at Folsom',\n",
       "       'Telegraph Ave at 23rd St', 'Page St at Scott St',\n",
       "       'Lake Merritt BART Station', 'West St at 40th St',\n",
       "       'The Embarcadero at Sansome St', 'Folsom St at 9th St',\n",
       "       'University Ave at Oxford St', 'MLK Jr Way at University Ave',\n",
       "       'The Embarcadero at Bryant St', '17th St at Valencia St',\n",
       "       'Valencia St at 16th St', 'Valencia St at 22nd St',\n",
       "       'Franklin Square', 'San Pablo Ave at MLK Jr Way',\n",
       "       '19th St at Mission St', 'Market St at 10th St',\n",
       "       'Folsom St at 13th St',\n",
       "       'San Francisco Ferry Building (Harry Bridges Plaza)',\n",
       "       '4th St at 16th St', 'Beale St at Harrison St',\n",
       "       'Broadway at Battery St', 'Cesar Chavez St at Dolores St',\n",
       "       'San Fernando St at 4th St', 'Grove St at Divisadero',\n",
       "       'Sanchez St at 17th St', 'Harmon St at Adeline St',\n",
       "       'Mission Playground', 'Davis St at Jackson St',\n",
       "       'Haste St at Telegraph Ave', 'Howard St at 8th St',\n",
       "       'Folsom St at 3rd St', 'Father Alfred E Boeddeker Park',\n",
       "       'Hubbell St at 16th St',\n",
       "       'San Francisco Public Library (Grove St at Hyde St)',\n",
       "       'Bancroft Way at Telegraph Ave', '19th Street BART Station',\n",
       "       '18th St at Noe St', 'Hyde St at Post St', '24th St at Market St',\n",
       "       'Vine St at Shattuck Ave',\n",
       "       'San Francisco Caltrain (Townsend St at 4th St)',\n",
       "       'Valencia St at Clinton Park',\n",
       "       'Union Square (Powell St at Post St)', 'Broderick St at Oak St',\n",
       "       'San Francisco Caltrain Station 2  (Townsend St at 4th St)',\n",
       "       'North Berkeley BART Station', 'Downtown Berkeley BART',\n",
       "       'Channing Way at Shattuck Ave', 'Fell St at Stanyan St',\n",
       "       'San Salvador St at 9th St', 'Marston Campbell Park',\n",
       "       'Oregon St at Adeline St', '11th St at Natoma St',\n",
       "       'Harrison St at 20th St', 'Haste St at College Ave',\n",
       "       '24th St at Bartlett St', 'Sanchez St at 15th St',\n",
       "       'Telegraph Ave at 19th St',\n",
       "       'Powell St BART Station (Market St at 5th St)',\n",
       "       'Jersey St at Castro St', 'Pierce St at Haight St',\n",
       "       'MacArthur BART Station', 'El Embarcadero at Grand Ave',\n",
       "       '23rd St at San Bruno Ave', 'Golden Gate Ave at Hyde St',\n",
       "       'S Van Ness Ave at Market St', 'Jackson Playground',\n",
       "       'San Fernando St at 7th St', 'West St at University Ave',\n",
       "       'Myrtle St at Polk St', 'Woolsey St at Sacramento St',\n",
       "       'Townsend St at 7th St', 'Harrison St at 17th St',\n",
       "       'West Oakland BART Station', 'Cyril Magnin St at Ellis St',\n",
       "       'Fulton St at Bancroft Way', '14th St at Mission St',\n",
       "       'San Pedro Square', 'Market St at Franklin St',\n",
       "       'Folsom St at 19th St', 'College Ave at Taft Ave',\n",
       "       'Rhode Island St at 17th St', 'Shattuck Ave at Hearst Ave',\n",
       "       'The Embarcadero at Vallejo St', 'The Embarcadero at Steuart St',\n",
       "       'Webster St at Grove St', 'Raymond Kimbell Playground',\n",
       "       'Victoria Manalo Draves Park', '20th St at Bryant St',\n",
       "       'S Park St at 3rd St', 'Lakeshore Ave at Trestle Glen Rd',\n",
       "       'Channing Way at San Pablo Ave', 'Mission Dolores Park',\n",
       "       'Lombard St at Columbus Ave', '17th St at Dolores St',\n",
       "       'Precita Park', 'Central Ave at Fell St', '4th St at Harrison St',\n",
       "       'Horton St at 40th St', 'Golden Gate Ave at Franklin St',\n",
       "       'Embarcadero BART Station (Beale St at Market St)',\n",
       "       '9th St at San Fernando St', '3rd St at Townsend St',\n",
       "       'McCoppin St at Valencia St', '13th St at Franklin St',\n",
       "       'Mission Bay Kids Park', 'Potrero Ave and Mariposa St',\n",
       "       'Emeryville Public Market', 'Union St at 10th St',\n",
       "       'Jackson St at 11th St', 'Broadway at Kearny',\n",
       "       'Paseo De San Antonio at 2nd St', 'Valencia St at Cesar Chavez St',\n",
       "       'Rockridge BART Station', '8th St at Brannan St',\n",
       "       'College Ave at Alcatraz Ave', '16th St Mission BART Station 2',\n",
       "       'San Jose Diridon Station', 'Masonic Ave at Turk St',\n",
       "       '17th & Folsom Street Park (17th St at Folsom St)',\n",
       "       'Grand Ave at Webster St', '7th St at Brannan St',\n",
       "       'Steuart St at Market St', 'Scott St at Golden Gate Ave',\n",
       "       'Parker St at Fulton St', 'Berkeley Civic Center',\n",
       "       'Clay St at Battery St', '11th St at Bryant St',\n",
       "       'Powell St BART Station (Market St at 4th St)',\n",
       "       'Doyle St at 59th St', '34th St at Telegraph Ave', 'Esprit Park',\n",
       "       'Emeryville Town Hall', 'Division St at Potrero Ave',\n",
       "       'Irwin St at 8th St', 'Pierce Ave at Market St',\n",
       "       'Howard St at Beale St', 'Washington St at 8th St',\n",
       "       'Dolores St at 15th St', 'Hearst Ave at Euclid Ave',\n",
       "       'Telegraph Ave at Ashby Ave', '8th St at Ringold St',\n",
       "       '14th St at Mandela Pkwy', 'Morrison Ave at Julian St',\n",
       "       'Commercial St at Montgomery St', 'Church St at Duboce Ave',\n",
       "       'Townsend St at 5th St', 'Valencia St at 24th St',\n",
       "       '16th St at Prosper St', '5th St at Virginia St',\n",
       "       \"Webster St at O'Farrell St\", 'Shattuck Ave at Telegraph Ave',\n",
       "       'Jackson St at 5th St', 'Berry St at 4th St',\n",
       "       'Telegraph Ave at Carleton St', 'Ellsworth St at Russell St',\n",
       "       'Adeline St at 40th St', 'Bay Pl at Vernon St',\n",
       "       'Russell St at College Ave', '22nd St Caltrain Station',\n",
       "       'Folsom St at 15th St', 'Snow Park', 'Ninth St at Heinz Ave',\n",
       "       '15th St at Potrero Ave', '23rd St at Tennessee St',\n",
       "       'McAllister St at Baker St', 'Bryant St at 2nd St',\n",
       "       'Mississippi St at 17th St', 'Ryland Park',\n",
       "       'Fountain Alley at S 2nd St', 'Ashby BART Station',\n",
       "       'Shattuck Ave at 51st St', 'Julian St at The Alameda',\n",
       "       '20th St at Dolores St', 'Broadway at Coronado Ave',\n",
       "       'Turk St at Fillmore St', 'Grand Ave at Santa Clara Ave',\n",
       "       'Eureka Valley Recreation Center', 'Parker Ave at McAllister St',\n",
       "       'Berry St at King St',\n",
       "       'Salesforce Transit Center (Natoma St at 2nd St)',\n",
       "       'San Antonio Park', 'Lakeside Dr at 14th St',\n",
       "       '16th St Mission BART', '2nd St at Townsend St',\n",
       "       'Stanford Ave at Hollis St', 'Broadway at 40th St',\n",
       "       'Mechanics Monument Plaza (Market St at Bush St)',\n",
       "       'Madison St at 17th St', 'Grand Ave at Perkins St',\n",
       "       'Garfield Square (25th St at Harrison St)', '53rd St at Hollis St',\n",
       "       '2nd St at Julian St', 'Telegraph Ave at Alcatraz Ave',\n",
       "       'San Francisco City Hall (Polk St at Grove St)',\n",
       "       '5th St at Brannan St', '10th St at Fallon St',\n",
       "       'Yerba Buena Center for the Arts (Howard St at 3rd St)',\n",
       "       '30th St at San Jose Ave', '29th St at Tiffany Ave',\n",
       "       'Webster St at 2nd St', 'Koshland Park', 'Jersey St at Church St',\n",
       "       'Santa Clara St at 7th St', 'Telegraph Ave at 58th St',\n",
       "       'Fruitvale BART Station', 'Addison St at Fourth St',\n",
       "       'Leavenworth St at Broadway', 'Telegraph Ave at 27th St',\n",
       "       'Potrero del Sol Park (25th St at Utah St)',\n",
       "       'Spear St at Folsom St', 'College Ave at Harwood Ave',\n",
       "       \"O'Farrell St at Divisadero St\", '1st St at Folsom St',\n",
       "       'Golden Gate Ave at Polk St', '5th St at San Salvador St',\n",
       "       '29th St at Church St', 'Alamo Square (Steiner St at Fulton St)',\n",
       "       'Autumn Parkway at Coleman Ave', 'Fulton St at Ashby Ave',\n",
       "       'Bryant St at 15th St', 'Howard St at 2nd St',\n",
       "       '19th St at Florida St', 'Market St at 45th St',\n",
       "       'Derby St at College Ave', 'Market St at Brockhurst St',\n",
       "       'California St at University Ave', 'MLK Jr Way at 14th St',\n",
       "       'Market St at 40th St', 'Julian St at 6th St', 'Cahill Park',\n",
       "       'San Jose City Hall', 'Virginia St at Shattuck Ave',\n",
       "       'Jack London Square', 'Webster St at 19th St',\n",
       "       '24th St at Chattanooga St', 'The Alameda at Bush St',\n",
       "       '49th St at Telegraph Ave', 'Broadway at 30th St',\n",
       "       'Bryant St at 6th St', 'Empire St at 1st St',\n",
       "       'China Basin St at 3rd St', '47th St at San Pablo Ave',\n",
       "       'Milvia St at Derby St', 'San Salvador St at 1st St',\n",
       "       '45th St at Manila', 'San Carlos St at Market St',\n",
       "       'San Pablo Ave at 27th St', 'Market St at Park St',\n",
       "       'Franklin St at 9th St', 'Almaden Blvd at San Fernando St',\n",
       "       'Oak St at 1st St', 'William St at 10th St',\n",
       "       'Isabella St at San Pablo Ave', 'Guerrero Park',\n",
       "       '10th St at University Ave', 'DeFremery Park',\n",
       "       'Fifth St at Delaware St', 'Williams Ave at 3rd St',\n",
       "       '4th Ave at E 12th St (Temporary Location)',\n",
       "       'Shattuck Ave at 55th St', '59th St at Horton St', 'SAP Center',\n",
       "       '37th St at West St', 'Almaden Blvd at Balbach St',\n",
       "       '65th St at Hollis St', 'Santa Clara St at Almaden Blvd',\n",
       "       'Ninth St at Parker St', 'Bushrod Park', 'Empire St at 7th St',\n",
       "       'Mendell St at Fairfax Ave', '16th St Depot',\n",
       "       'Newhall St at 3rd St', 'George St at 1st St',\n",
       "       'Mission St at 1st St', 'Duboce Park', 'Locust St at Grant St',\n",
       "       '32nd St at Adeline St', 'Mosswood Park',\n",
       "       'Delmas Ave and San Fernando St', 'Lane St at Revere Ave',\n",
       "       '2nd Ave at E 18th St', 'San Carlos St at 11th St',\n",
       "       'Williams Ave at Apollo St', 'MacArthur Blvd at Telegraph Ave',\n",
       "       'Bestor Art Park', 'College Ave at Bryant Ave',\n",
       "       'Miles Ave at Cavour St', 'Saint James Park',\n",
       "       '14th St at Filbert St', 'Foothill Blvd at Fruitvale Ave',\n",
       "       'Market St at 8th St', 'Backesto Park (Jackson St at 13th St)',\n",
       "       '10th Ave at E 15th St', 'Alcatraz Ave at Shattuck Ave',\n",
       "       '55th St at Telegraph Ave', 'Genoa St at 55th St',\n",
       "       'Dover St at 57th St', 'San Pablo Park',\n",
       "       '6th Ave at E 12th St (Temporary Location)', 'Taylor St at 9th St',\n",
       "       '27th St at MLK Jr Way', 'Foothill Blvd at Harrington Ave',\n",
       "       '23rd Ave at Foothill Blvd', 'San Pedro St at Hedding St',\n",
       "       '45th St at MLK Jr Way', '5th St at Taylor St',\n",
       "       'Foothill Blvd at 42nd Ave', 'Willow St at Vine St',\n",
       "       '26th Ave at International Blvd', 'Farnam St at Fruitvale Ave',\n",
       "       '21st Ave at International Blvd', '2nd St at Folsom St'], dtype=object)"
      ]
     },
     "execution_count": 41,
     "metadata": {},
     "output_type": "execute_result"
    }
   ],
   "source": [
    "df['start_station_name'].unique()"
   ]
  },
  {
   "cell_type": "code",
   "execution_count": 42,
   "metadata": {
    "scrolled": true
   },
   "outputs": [
    {
     "data": {
      "text/plain": [
       "Market St at 10th St                                               3649\n",
       "San Francisco Caltrain Station 2  (Townsend St at 4th St)          3406\n",
       "Berry St at 4th St                                                 2951\n",
       "Montgomery St BART Station (Market St at 2nd St)                   2711\n",
       "Powell St BART Station (Market St at 4th St)                       2620\n",
       "San Francisco Caltrain (Townsend St at 4th St)                     2572\n",
       "San Francisco Ferry Building (Harry Bridges Plaza)                 2540\n",
       "Howard St at Beale St                                              2216\n",
       "Steuart St at Market St                                            2191\n",
       "Powell St BART Station (Market St at 5th St)                       2144\n",
       "The Embarcadero at Sansome St                                      1975\n",
       "Bancroft Way at Telegraph Ave                                      1761\n",
       "Bancroft Way at College Ave                                        1712\n",
       "2nd St at Townsend St                                              1702\n",
       "Beale St at Harrison St                                            1678\n",
       "3rd St at Townsend St                                              1675\n",
       "Embarcadero BART Station (Beale St at Market St)                   1646\n",
       "4th St at Mission Bay Blvd S                                       1496\n",
       "Townsend St at 7th St                                              1479\n",
       "Civic Center/UN Plaza BART Station (Market St at McAllister St)    1476\n",
       "The Embarcadero at Steuart St                                      1420\n",
       "Downtown Berkeley BART                                             1322\n",
       "Post St at Kearny St                                               1311\n",
       "4th St at 16th St                                                  1274\n",
       "Howard St at 8th St                                                1257\n",
       "19th Street BART Station                                           1231\n",
       "Esprit Park                                                        1226\n",
       "Rhode Island St at 17th St                                         1224\n",
       "Hearst Ave at Euclid Ave                                           1176\n",
       "8th St at Brannan St                                               1154\n",
       "                                                                   ... \n",
       "45th St at MLK Jr Way                                                54\n",
       "27th St at MLK Jr Way                                                54\n",
       "Mendell St at Fairfax Ave                                            53\n",
       "San Antonio Park                                                     53\n",
       "Locust St at Grant St                                                49\n",
       "Williams Ave at 3rd St                                               48\n",
       "Delmas Ave and San Fernando St                                       47\n",
       "San Carlos St at Market St                                           37\n",
       "Lane St at Revere Ave                                                36\n",
       "Foothill Blvd at Harrington Ave                                      35\n",
       "Almaden Blvd at Balbach St                                           32\n",
       "Mission St at 1st St                                                 32\n",
       "George St at 1st St                                                  31\n",
       "Oak St at 1st St                                                     30\n",
       "Empire St at 7th St                                                  28\n",
       "SAP Center                                                           27\n",
       "Williams Ave at Apollo St                                            25\n",
       "Foothill Blvd at 42nd Ave                                            23\n",
       "26th Ave at International Blvd                                       19\n",
       "San Pedro St at Hedding St                                           19\n",
       "23rd Ave at Foothill Blvd                                            17\n",
       "Backesto Park (Jackson St at 13th St)                                17\n",
       "Leavenworth St at Broadway                                           16\n",
       "Taylor St at 9th St                                                  13\n",
       "Farnam St at Fruitvale Ave                                            9\n",
       "Willow St at Vine St                                                  9\n",
       "Parker Ave at McAllister St                                           7\n",
       "21st Ave at International Blvd                                        4\n",
       "Palm St at Willow St                                                  3\n",
       "16th St Depot                                                         2\n",
       "Name: start_station_name, Length: 329, dtype: int64"
      ]
     },
     "execution_count": 42,
     "metadata": {},
     "output_type": "execute_result"
    }
   ],
   "source": [
    "df['start_station_name'].value_counts()"
   ]
  },
  {
   "cell_type": "code",
   "execution_count": 43,
   "metadata": {},
   "outputs": [
    {
     "data": {
      "image/png": "[encoded data removed]",
      "text/plain": [
       "<matplotlib.figure.Figure at 0x7f249a9c6048>"
      ]
     },
     "metadata": {
      "needs_background": "light"
     },
     "output_type": "display_data"
    }
   ],
   "source": [
    "plt.title('Top Five Start Stations')\n",
    "plt.xlabel('Frequency')\n",
    "df['start_station_name'].value_counts(ascending=True).tail(5).plot.barh(color = '#1f77b4');"
   ]
  },
  {
   "cell_type": "markdown",
   "metadata": {},
   "source": [
    "We can see that the top five start stations among users, respectively, are:\n",
    "- Market St at 10th St\n",
    "- San Francisco Caltrain Station 2  (Townsend St at 4th St)\n",
    "- Berry St at 4th St\n",
    "- Montgomery St BART Station (Market St at 2nd St)\n",
    "- Powell St BART Station (Market St at 4th St)"
   ]
  },
  {
   "cell_type": "markdown",
   "metadata": {},
   "source": [
    "### What are the top five end stations among users?"
   ]
  },
  {
   "cell_type": "code",
   "execution_count": 44,
   "metadata": {},
   "outputs": [
    {
     "data": {
      "text/plain": [
       "329"
      ]
     },
     "execution_count": 44,
     "metadata": {},
     "output_type": "execute_result"
    }
   ],
   "source": [
    "df['end_station_name'].nunique()"
   ]
  },
  {
   "cell_type": "code",
   "execution_count": 45,
   "metadata": {
    "scrolled": true
   },
   "outputs": [
    {
     "data": {
      "text/plain": [
       "array(['Commercial St at Montgomery St',\n",
       "       'Powell St BART Station (Market St at 4th St)',\n",
       "       'Central Ave at Fell St', '10th Ave at E 15th St',\n",
       "       'Broadway at Kearny', 'San Jose Diridon Station',\n",
       "       'Valencia St at 21st St', 'Mission Playground',\n",
       "       'San Francisco Public Library (Grove St at Hyde St)',\n",
       "       'Bryant St at 2nd St', 'Channing Way at Shattuck Ave',\n",
       "       '8th St at Ringold St', 'Broderick St at Oak St',\n",
       "       'Potrero Ave and Mariposa St', 'Market St at Franklin St',\n",
       "       'Telegraph Ave at 23rd St', '17th St at Dolores St',\n",
       "       '6th Ave at E 12th St (Temporary Location)',\n",
       "       'McAllister St at Baker St', 'Telegraph Ave at Carleton St',\n",
       "       'Genoa St at 55th St', 'Grand Ave at Perkins St',\n",
       "       'San Francisco Ferry Building (Harry Bridges Plaza)',\n",
       "       'Folsom St at 9th St', 'Channing Way at San Pablo Ave',\n",
       "       'Shattuck Ave at Hearst Ave', '2nd St at Townsend St',\n",
       "       'Pierce St at Haight St',\n",
       "       'Potrero del Sol Park (25th St at Utah St)',\n",
       "       'Valencia St at 22nd St', 'Jackson Playground',\n",
       "       'Dolores St at 15th St', '29th St at Church St',\n",
       "       '19th St at Mission St', 'Bay Pl at Vernon St',\n",
       "       'Post St at Kearny St',\n",
       "       'Yerba Buena Center for the Arts (Howard St at 3rd St)',\n",
       "       '4th St at Mission Bay Blvd S', 'Father Alfred E Boeddeker Park',\n",
       "       'Market St at 10th St', '24th St at Chattanooga St',\n",
       "       'Pierce Ave at Market St', 'Fell St at Stanyan St',\n",
       "       '17th St at Valencia St', 'San Pablo Ave at 27th St',\n",
       "       'Howard St at Mary St', 'Victoria Manalo Draves Park',\n",
       "       'Davis St at Jackson St', 'Jersey St at Church St',\n",
       "       'Haste St at Telegraph Ave', 'Eureka Valley Recreation Center',\n",
       "       'Washington St at Kearny St', 'Grove St at Divisadero',\n",
       "       'Berry St at 4th St', 'Parker St at Fulton St',\n",
       "       'El Embarcadero at Grand Ave', 'Lake Merritt BART Station',\n",
       "       'Hyde St at Post St', '24th St at Market St',\n",
       "       '5th St at Brannan St', '24th St at Bartlett St',\n",
       "       'Townsend St at 5th St', 'Addison St at Fourth St',\n",
       "       'Broadway at Battery St', 'Market St at Dolores St',\n",
       "       '5th St at Virginia St', 'Marston Campbell Park',\n",
       "       'University Ave at Oxford St', 'Valencia St at 24th St',\n",
       "       'Valencia St at Cesar Chavez St', 'Ryland Park', 'Precita Park',\n",
       "       'Derby St at College Ave', 'Jersey St at Castro St',\n",
       "       '11th St at Natoma St', '45th St at MLK Jr Way',\n",
       "       'Valencia St at 16th St',\n",
       "       'San Francisco Caltrain Station 2  (Townsend St at 4th St)',\n",
       "       'Montgomery St BART Station (Market St at 2nd St)',\n",
       "       '18th St at Noe St', '37th St at West St', 'Newhall St at 3rd St',\n",
       "       'Haste St at College Ave', 'Cyril Magnin St at Ellis St',\n",
       "       'Beale St at Harrison St', 'Fulton St at Bancroft Way',\n",
       "       'San Fernando St at 4th St',\n",
       "       'Garfield Square (25th St at Harrison St)',\n",
       "       '29th St at Tiffany Ave', 'Bancroft Way at College Ave',\n",
       "       'Ashby BART Station', '11th St at Bryant St',\n",
       "       '14th St at Mandela Pkwy', 'Howard St at 8th St',\n",
       "       'Leavenworth St at Broadway', 'Locust St at Grant St',\n",
       "       'Lombard St at Columbus Ave', 'Sanchez St at 17th St',\n",
       "       '45th St at Manila', '23rd St at San Bruno Ave',\n",
       "       'Morrison Ave at Julian St', 'Sanchez St at 15th St',\n",
       "       'Koshland Park', 'Harrison St at 20th St', '2nd Ave at E 18th St',\n",
       "       'Steuart St at Market St', 'Church St at Duboce Ave',\n",
       "       'Page St at Scott St', 'Bancroft Way at Telegraph Ave',\n",
       "       'Mission Bay Kids Park', 'Folsom St at 3rd St',\n",
       "       'Valencia St at Clinton Park', 'Grand Ave at Santa Clara Ave',\n",
       "       '19th Street BART Station', 'Folsom St at 19th St',\n",
       "       'West Oakland BART Station', 'S Park St at 3rd St',\n",
       "       '5th St at Folsom',\n",
       "       'Embarcadero BART Station (Beale St at Market St)',\n",
       "       'Howard St at 2nd St', 'The Embarcadero at Sansome St',\n",
       "       'Backesto Park (Jackson St at 13th St)', 'Esprit Park',\n",
       "       'Myrtle St at Polk St', 'Franklin Square', 'Empire St at 7th St',\n",
       "       'Lakeside Dr at 14th St', 'Laguna St at Hayes St',\n",
       "       '65th St at Hollis St', '4th St at 16th St',\n",
       "       '49th St at Telegraph Ave', '16th St Mission BART Station 2',\n",
       "       'Lane St at Revere Ave', 'MLK Jr Way at University Ave',\n",
       "       '2nd St at Julian St', 'Webster St at Grove St',\n",
       "       'Telegraph Ave at Ashby Ave', 'Bryant St at 6th St',\n",
       "       '20th St at Dolores St',\n",
       "       'Powell St BART Station (Market St at 5th St)',\n",
       "       'San Francisco Caltrain (Townsend St at 4th St)',\n",
       "       '8th St at Brannan St', 'Downtown Berkeley BART',\n",
       "       'North Berkeley BART Station', 'Turk St at Fillmore St',\n",
       "       'Woolsey St at Sacramento St', '4th St at Harrison St',\n",
       "       'The Embarcadero at Bryant St', \"O'Farrell St at Divisadero St\",\n",
       "       'Grove St at Masonic Ave', 'Hubbell St at 16th St',\n",
       "       'Civic Center/UN Plaza BART Station (Market St at McAllister St)',\n",
       "       '3rd St at Townsend St', 'Fountain Alley at S 2nd St',\n",
       "       'China Basin St at 3rd St', '59th St at Horton St',\n",
       "       'Mission Dolores Park', 'San Carlos St at 11th St',\n",
       "       'Jackson St at 11th St', '22nd St Caltrain Station',\n",
       "       'Townsend St at 7th St', '7th St at Brannan St',\n",
       "       'Webster St at 2nd St', 'Ellsworth St at Russell St',\n",
       "       \"Webster St at O'Farrell St\", 'Harmon St at Adeline St',\n",
       "       '1st St at Folsom St', 'Vine St at Shattuck Ave',\n",
       "       'Stanford Ave at Hollis St', 'Jones St at Post St',\n",
       "       'West St at University Ave', 'Paseo De San Antonio at 2nd St',\n",
       "       'Duboce Park', 'The Embarcadero at Steuart St',\n",
       "       'Russell St at College Ave', 'Golden Gate Ave at Hyde St',\n",
       "       'Berkeley Civic Center', '47th St at San Pablo Ave',\n",
       "       'George St at 1st St', '53rd St at Hollis St', 'West St at 40th St',\n",
       "       '15th St at Potrero Ave', 'Division St at Potrero Ave',\n",
       "       'San Pablo Ave at MLK Jr Way', 'Jackson St at 5th St',\n",
       "       'Union Square (Powell St at Post St)',\n",
       "       '4th Ave at E 12th St (Temporary Location)', 'Bushrod Park',\n",
       "       'Rhode Island St at 17th St', 'Folsom St at 13th St',\n",
       "       'Virginia St at Shattuck Ave', '16th St Mission BART',\n",
       "       'Lakeshore Ave at Trestle Glen Rd', 'Masonic Ave at Turk St',\n",
       "       'Harrison St at 17th St', 'McCoppin St at Valencia St',\n",
       "       '17th & Folsom Street Park (17th St at Folsom St)',\n",
       "       '10th St at Fallon St', '34th St at Telegraph Ave',\n",
       "       'The Alameda at Bush St', '9th St at San Fernando St',\n",
       "       '20th St at Bryant St', 'Howard St at Beale St',\n",
       "       'Cesar Chavez St at Dolores St', '55th St at Telegraph Ave',\n",
       "       'S Van Ness Ave at Market St', 'Scott St at Golden Gate Ave',\n",
       "       '14th St at Mission St', 'Mississippi St at 17th St',\n",
       "       'Alamo Square (Steiner St at Fulton St)', 'Shattuck Ave at 51st St',\n",
       "       'MacArthur BART Station', 'Madison St at 17th St',\n",
       "       'Horton St at 40th St', 'Hearst Ave at Euclid Ave',\n",
       "       'Folsom St at 15th St', 'Alcatraz Ave at Shattuck Ave',\n",
       "       'San Fernando St at 7th St', 'MLK Jr Way at 14th St',\n",
       "       'Milvia St at Derby St', 'College Ave at Alcatraz Ave',\n",
       "       'Washington St at 8th St', 'Guerrero Park',\n",
       "       'Oregon St at Adeline St', 'Parker Ave at McAllister St',\n",
       "       '23rd St at Tennessee St', 'Clay St at Battery St',\n",
       "       'Broadway at 40th St',\n",
       "       'Salesforce Transit Center (Natoma St at 2nd St)',\n",
       "       'Telegraph Ave at 19th St', 'Emeryville Public Market',\n",
       "       'Golden Gate Ave at Polk St', 'Telegraph Ave at 58th St',\n",
       "       'Foothill Blvd at Harrington Ave', 'The Embarcadero at Vallejo St',\n",
       "       '16th St at Prosper St', 'Berry St at King St',\n",
       "       'Broadway at Coronado Ave', 'Market St at 45th St',\n",
       "       'Mechanics Monument Plaza (Market St at Bush St)',\n",
       "       'Dover St at 57th St', '19th St at Florida St',\n",
       "       'Miles Ave at Cavour St', 'Rockridge BART Station',\n",
       "       'Fifth St at Delaware St', 'College Ave at Harwood Ave',\n",
       "       'California St at University Ave', '5th St at San Salvador St',\n",
       "       'Mosswood Park', 'William St at 10th St', 'Union St at 10th St',\n",
       "       '5th St at Taylor St', 'Julian St at The Alameda',\n",
       "       'Irwin St at 8th St', 'Market St at Brockhurst St',\n",
       "       'Adeline St at 40th St', '30th St at San Jose Ave',\n",
       "       'Spear St at Folsom St', '27th St at MLK Jr Way',\n",
       "       'San Francisco City Hall (Polk St at Grove St)',\n",
       "       '22nd St at Dolores St', 'Frank H Ogawa Plaza',\n",
       "       'Golden Gate Ave at Franklin St', 'Broadway at 30th St',\n",
       "       'Bryant St at 15th St', 'Grand Ave at Webster St',\n",
       "       'Julian St at 6th St', 'Shattuck Ave at 55th St',\n",
       "       'Santa Clara St at 7th St', '14th St at Filbert St',\n",
       "       'Emeryville Town Hall', 'Cahill Park', 'Raymond Kimbell Playground',\n",
       "       'Autumn Parkway at Coleman Ave', 'Isabella St at San Pablo Ave',\n",
       "       'San Salvador St at 9th St', 'Telegraph Ave at 27th St',\n",
       "       '13th St at Franklin St', 'Doyle St at 59th St',\n",
       "       'Jack London Square', 'SAP Center', 'Telegraph Ave at Alcatraz Ave',\n",
       "       'San Carlos St at Market St', '10th St at University Ave',\n",
       "       'Ninth St at Heinz Ave', 'Market St at 40th St',\n",
       "       '23rd Ave at Foothill Blvd', 'Bestor Art Park',\n",
       "       '32nd St at Adeline St', 'DeFremery Park', 'San Pedro Square',\n",
       "       'San Salvador St at 1st St', 'Fulton St at Ashby Ave',\n",
       "       'Ninth St at Parker St', 'Taylor St at 9th St',\n",
       "       'Empire St at 1st St', 'Franklin St at 9th St',\n",
       "       'Webster St at 19th St', 'San Pablo Park',\n",
       "       'Shattuck Ave at Telegraph Ave', 'College Ave at Taft Ave',\n",
       "       'Market St at 8th St', 'Snow Park', 'San Antonio Park',\n",
       "       'San Jose City Hall', 'Delmas Ave and San Fernando St',\n",
       "       'Mendell St at Fairfax Ave', 'Santa Clara St at Almaden Blvd',\n",
       "       'College Ave at Bryant Ave', 'Foothill Blvd at Fruitvale Ave',\n",
       "       'Palm St at Willow St', 'Saint James Park', 'Market St at Park St',\n",
       "       'Almaden Blvd at Balbach St', 'Almaden Blvd at San Fernando St',\n",
       "       'Foothill Blvd at 42nd Ave', 'Fruitvale BART Station',\n",
       "       'MacArthur Blvd at Telegraph Ave', 'Williams Ave at Apollo St',\n",
       "       'Williams Ave at 3rd St', 'Mission St at 1st St',\n",
       "       'San Pedro St at Hedding St', 'Oak St at 1st St',\n",
       "       'Farnam St at Fruitvale Ave', '26th Ave at International Blvd',\n",
       "       '16th St Depot', 'Willow St at Vine St',\n",
       "       '21st Ave at International Blvd', '2nd St at Folsom St'], dtype=object)"
      ]
     },
     "execution_count": 45,
     "metadata": {},
     "output_type": "execute_result"
    }
   ],
   "source": [
    "df['end_station_name'].unique()"
   ]
  },
  {
   "cell_type": "code",
   "execution_count": 46,
   "metadata": {
    "scrolled": true
   },
   "outputs": [
    {
     "data": {
      "text/plain": [
       "San Francisco Caltrain Station 2  (Townsend St at 4th St)          4622\n",
       "Market St at 10th St                                               3709\n",
       "Montgomery St BART Station (Market St at 2nd St)                   3461\n",
       "San Francisco Ferry Building (Harry Bridges Plaza)                 3151\n",
       "San Francisco Caltrain (Townsend St at 4th St)                     2860\n",
       "Powell St BART Station (Market St at 4th St)                       2854\n",
       "Berry St at 4th St                                                 2782\n",
       "The Embarcadero at Sansome St                                      2341\n",
       "Steuart St at Market St                                            2264\n",
       "Powell St BART Station (Market St at 5th St)                       2153\n",
       "Howard St at Beale St                                              1970\n",
       "Bancroft Way at Telegraph Ave                                      1780\n",
       "Beale St at Harrison St                                            1780\n",
       "Civic Center/UN Plaza BART Station (Market St at McAllister St)    1733\n",
       "2nd St at Townsend St                                              1667\n",
       "3rd St at Townsend St                                              1628\n",
       "Embarcadero BART Station (Beale St at Market St)                   1622\n",
       "4th St at Mission Bay Blvd S                                       1590\n",
       "Townsend St at 7th St                                              1440\n",
       "The Embarcadero at Steuart St                                      1414\n",
       "19th Street BART Station                                           1392\n",
       "Post St at Kearny St                                               1366\n",
       "Downtown Berkeley BART                                             1321\n",
       "Rhode Island St at 17th St                                         1271\n",
       "8th St at Brannan St                                               1270\n",
       "Folsom St at 3rd St                                                1234\n",
       "Howard St at 8th St                                                1216\n",
       "Esprit Park                                                        1182\n",
       "4th St at 16th St                                                  1135\n",
       "Spear St at Folsom St                                              1116\n",
       "                                                                   ... \n",
       "Williams Ave at 3rd St                                               50\n",
       "Market St at 40th St                                                 48\n",
       "27th St at MLK Jr Way                                                48\n",
       "Lane St at Revere Ave                                                46\n",
       "Locust St at Grant St                                                45\n",
       "Empire St at 1st St                                                  45\n",
       "San Carlos St at Market St                                           42\n",
       "Bestor Art Park                                                      38\n",
       "SAP Center                                                           37\n",
       "10th Ave at E 15th St                                                35\n",
       "Almaden Blvd at Balbach St                                           34\n",
       "George St at 1st St                                                  33\n",
       "San Pedro St at Hedding St                                           30\n",
       "Oak St at 1st St                                                     28\n",
       "Empire St at 7th St                                                  25\n",
       "Mission St at 1st St                                                 24\n",
       "Williams Ave at Apollo St                                            20\n",
       "Foothill Blvd at 42nd Ave                                            20\n",
       "23rd Ave at Foothill Blvd                                            19\n",
       "26th Ave at International Blvd                                       19\n",
       "Backesto Park (Jackson St at 13th St)                                18\n",
       "Foothill Blvd at Harrington Ave                                      16\n",
       "Leavenworth St at Broadway                                           12\n",
       "Taylor St at 9th St                                                  11\n",
       "Farnam St at Fruitvale Ave                                           10\n",
       "Parker Ave at McAllister St                                           9\n",
       "Palm St at Willow St                                                  7\n",
       "16th St Depot                                                         6\n",
       "Willow St at Vine St                                                  5\n",
       "21st Ave at International Blvd                                        5\n",
       "Name: end_station_name, Length: 329, dtype: int64"
      ]
     },
     "execution_count": 46,
     "metadata": {},
     "output_type": "execute_result"
    }
   ],
   "source": [
    "df['end_station_name'].value_counts()"
   ]
  },
  {
   "cell_type": "code",
   "execution_count": 47,
   "metadata": {},
   "outputs": [
    {
     "data": {
      "image/png": "[encoded data removed]",
      "text/plain": [
       "<matplotlib.figure.Figure at 0x7f249aa3b6d8>"
      ]
     },
     "metadata": {
      "needs_background": "light"
     },
     "output_type": "display_data"
    }
   ],
   "source": [
    "plt.title('Top Five End Stations')\n",
    "plt.xlabel('Frequency')\n",
    "df['end_station_name'].value_counts(ascending=True).tail(5).plot.barh(color = '#1f77b4');"
   ]
  },
  {
   "cell_type": "markdown",
   "metadata": {},
   "source": [
    "We can see that the top five end stations among users, respectively, are:\n",
    "- San Francisco Caltrain Station 2  (Townsend St at 4th St)\n",
    "- Market St at 10th St\n",
    "- Montgomery St BART Station (Market St at 2nd St)\n",
    "- San Francisco Ferry Building (Harry Bridges Plaza) \n",
    "- San Francisco Caltrain (Townsend St at 4th St)\n",
    "\n",
    "We can observe that some stations are popular as start and end stations."
   ]
  },
  {
   "cell_type": "markdown",
   "metadata": {},
   "source": [
    "### What is the most frequent start day of the week that users ride their bikes on?"
   ]
  },
  {
   "cell_type": "code",
   "execution_count": 48,
   "metadata": {},
   "outputs": [
    {
     "data": {
      "image/png": "[encoded data removed]",
      "text/plain": [
       "<matplotlib.figure.Figure at 0x7f249a90a2b0>"
      ]
     },
     "metadata": {
      "needs_background": "light"
     },
     "output_type": "display_data"
    }
   ],
   "source": [
    "# Use function defined earlier\n",
    "\n",
    "create_bar_plot(df, x = 'start_day', \n",
    "                order = ['Sunday', 'Monday', 'Tuesday', 'Wednesday', 'Thursday', 'Friday', 'Saturday'],\n",
    "                color = '#1f77b4')\n",
    "plt.ylabel('Number of Users')\n",
    "plt.title(\"Frequency of start days\")\n",
    "\n",
    "plt.show()"
   ]
  },
  {
   "cell_type": "markdown",
   "metadata": {},
   "source": [
    "From the plot above, we can see that Thursday is the most frequent start day of the week, followed by Tuesday then Wednesday. We can also see that the bike rides drop on the weekends (Saturday and Sunday) which could mean that people highly use bikes for work instead of pleasure."
   ]
  },
  {
   "cell_type": "markdown",
   "metadata": {},
   "source": [
    "### What is the most frequent end day of the week that users ride their bikes on?"
   ]
  },
  {
   "cell_type": "code",
   "execution_count": 49,
   "metadata": {},
   "outputs": [
    {
     "data": {
      "image/png": "[encoded data removed]",
      "text/plain": [
       "<matplotlib.figure.Figure at 0x7f249a8e3e80>"
      ]
     },
     "metadata": {
      "needs_background": "light"
     },
     "output_type": "display_data"
    }
   ],
   "source": [
    "# Use function defined earlier\n",
    "\n",
    "create_bar_plot(df, x = 'end_day', \n",
    "                order = ['Sunday', 'Monday', 'Tuesday', 'Wednesday', 'Thursday', 'Friday', 'Saturday'],\n",
    "                color = '#1f77b4')\n",
    "plt.ylabel('Number of Users')\n",
    "plt.title(\"Frequency of end days\")\n",
    "\n",
    "plt.show()"
   ]
  },
  {
   "cell_type": "markdown",
   "metadata": {},
   "source": [
    "We can see that there are not much difference in the frequency of the start and end days. This concludes that people rent their bikes daily instead of a multiple days basis."
   ]
  },
  {
   "cell_type": "markdown",
   "metadata": {},
   "source": [
    "### Discuss the distribution(s) of your variable(s) of interest. Were there any unusual points? Did you need to perform any transformations?\n",
    "\n",
    "> From the first visualization regarding the duration of trips, the duration takes a large amount of values and is concentrated to a tail so we transformed it to a logarthmic scale and found that peak occurs at around 600 seconds starting from 0 and then distribution starts to drop and does not regain any more peak value.\n",
    "\n",
    "### Of the features you investigated, were there any unusual distributions? Did you perform any operations on the data to tidy, adjust, or change the form of the data? If so, why did you do this?\n",
    "\n",
    "> The birth year is converted by substracting the birth year of the users from 2019, the year of the published dataset. This gives us a distibution for age, this action is performed as age gives a  better perception regarding trip duration dependency. Also, we modified the `start_time` and `end_time` to separate the date from the time and extracting the day of the week from the date column."
   ]
  },
  {
   "cell_type": "markdown",
   "metadata": {},
   "source": [
    "## Bivariate Exploration\n",
    "\n",
    "> This section investigate relationships between pairs of variables. It also includes visual representations, such as clustered bar, bar plot, box plots, and scatter plot, to help understand the relation and spread of the data.\n"
   ]
  },
  {
   "cell_type": "markdown",
   "metadata": {},
   "source": [
    "### What is the average trip duration based on user type?"
   ]
  },
  {
   "cell_type": "code",
   "execution_count": 50,
   "metadata": {},
   "outputs": [],
   "source": [
    "# Add user types into variables\n",
    "\n",
    "customers = df['user_type'] == 'Customer'\n",
    "subscribers = df['user_type'] == 'Subscriber'"
   ]
  },
  {
   "cell_type": "code",
   "execution_count": 51,
   "metadata": {},
   "outputs": [
    {
     "data": {
      "text/plain": [
       "<matplotlib.axes._subplots.AxesSubplot at 0x7f249a9b2668>"
      ]
     },
     "execution_count": 51,
     "metadata": {},
     "output_type": "execute_result"
    },
    {
     "data": {
      "image/png": "[encoded data removed]",
      "text/plain": [
       "<matplotlib.figure.Figure at 0x7f24a1fa1710>"
      ]
     },
     "metadata": {
      "needs_background": "light"
     },
     "output_type": "display_data"
    }
   ],
   "source": [
    "plt.figure(figsize = [8, 5])\n",
    "plt.title('Trip Duration by User Type')\n",
    "sb.boxplot(data = df, x = 'user_type', y = 'duration_sec')"
   ]
  },
  {
   "cell_type": "code",
   "execution_count": 52,
   "metadata": {},
   "outputs": [
    {
     "data": {
      "text/plain": [
       "<matplotlib.axes._subplots.AxesSubplot at 0x7f249a8e38d0>"
      ]
     },
     "execution_count": 52,
     "metadata": {},
     "output_type": "execute_result"
    },
    {
     "data": {
      "image/png": "[encoded data removed]",
      "text/plain": [
       "<matplotlib.figure.Figure at 0x7f24a1f4ae10>"
      ]
     },
     "metadata": {
      "needs_background": "light"
     },
     "output_type": "display_data"
    }
   ],
   "source": [
    "# Use a sample of data to make better visualization of the box plot\n",
    "\n",
    "sample = df.sample(1000)\n",
    "\n",
    "plt.figure(figsize = [8, 5])\n",
    "plt.title('Sample of Trip Duration by User Type Boxplot')\n",
    "sb.boxplot(data = sample, x = 'user_type', y = 'duration_sec')"
   ]
  },
  {
   "cell_type": "code",
   "execution_count": 53,
   "metadata": {},
   "outputs": [
    {
     "data": {
      "text/plain": [
       "1310.7782138759737"
      ]
     },
     "execution_count": 53,
     "metadata": {},
     "output_type": "execute_result"
    }
   ],
   "source": [
    "# Average trip duration for Customer\n",
    "\n",
    "df[customers]['duration_sec'].mean()"
   ]
  },
  {
   "cell_type": "code",
   "execution_count": 54,
   "metadata": {},
   "outputs": [
    {
     "data": {
      "text/plain": [
       "640.55250475306184"
      ]
     },
     "execution_count": 54,
     "metadata": {},
     "output_type": "execute_result"
    }
   ],
   "source": [
    "# Average trip duration for Subscriber\n",
    "\n",
    "df[subscribers]['duration_sec'].mean()"
   ]
  },
  {
   "cell_type": "code",
   "execution_count": 55,
   "metadata": {},
   "outputs": [
    {
     "data": {
      "image/png": "[encoded data removed]",
      "text/plain": [
       "<matplotlib.figure.Figure at 0x7f24a1f23e48>"
      ]
     },
     "metadata": {
      "needs_background": "light"
     },
     "output_type": "display_data"
    }
   ],
   "source": [
    "# Plot trip duration comparison\n",
    "\n",
    "duration_user = df[['user_type', 'duration_sec']].groupby('user_type').mean()\n",
    "duration_user.plot(kind = 'bar', figsize = [8, 5], legend= None)\n",
    "plt.title(\"Average Trip Duration Based on User Type\")\n",
    "plt.ylabel(\"Trip Duration\")\n",
    "plt.xlabel('User Type')\n",
    "plt.xticks(rotation=0)\n",
    "\n",
    "plt.show()"
   ]
  },
  {
   "cell_type": "markdown",
   "metadata": {},
   "source": [
    "Based on the plots above, we can see that the average trip duration of users is higher for customers in comparison with subscribers. Also, we can see that there exists some oulier values for both customers and subscribers."
   ]
  },
  {
   "cell_type": "markdown",
   "metadata": {},
   "source": [
    "### What is the relation between trip duration and users' age?"
   ]
  },
  {
   "cell_type": "code",
   "execution_count": 56,
   "metadata": {},
   "outputs": [
    {
     "data": {
      "image/png": "[encoded data removed]",
      "text/plain": [
       "<matplotlib.figure.Figure at 0x7f249ab33198>"
      ]
     },
     "metadata": {
      "needs_background": "light"
     },
     "output_type": "display_data"
    }
   ],
   "source": [
    "# scatter plot of trip duration vs. users' age, with log transform on trip duration axis\n",
    "\n",
    "plt.figure(figsize = [8, 5])\n",
    "plt.scatter(df['age'], df['duration_sec'], alpha = 1/10)\n",
    "plt.xlim([0, 100])\n",
    "plt.ylim([500, 10000])\n",
    "plt.xlabel('Age')\n",
    "plt.yscale('log')\n",
    "plt.yticks([500, 1e3, 2e3, 5e3, 1e4], [500, '1k', '2k', '5k', '10k'])\n",
    "plt.ylabel('Trip Duration')\n",
    "plt.title('Trip Duration and User Age Correlation')\n",
    "\n",
    "plt.show()"
   ]
  },
  {
   "cell_type": "markdown",
   "metadata": {},
   "source": [
    "Most trip durations are below 2k and the age is below 65. We can conclude that most users who take longer trip durations are younger."
   ]
  },
  {
   "cell_type": "markdown",
   "metadata": {},
   "source": [
    "### What is the average trip duration based on users' gender?"
   ]
  },
  {
   "cell_type": "code",
   "execution_count": 57,
   "metadata": {},
   "outputs": [],
   "source": [
    "# Add user genders into variables\n",
    "\n",
    "male = df['member_gender'] == 'Male'\n",
    "female = df['member_gender'] == 'Female'\n",
    "others = df['member_gender'] == 'Other'"
   ]
  },
  {
   "cell_type": "code",
   "execution_count": 58,
   "metadata": {},
   "outputs": [
    {
     "data": {
      "image/png": "[encoded data removed]",
      "text/plain": [
       "<matplotlib.figure.Figure at 0x7f24a1fa2710>"
      ]
     },
     "metadata": {
      "needs_background": "light"
     },
     "output_type": "display_data"
    }
   ],
   "source": [
    "plt.figure(figsize = [8, 5])\n",
    "plt.title('Trip Duration by User Gender')\n",
    "sb.boxplot(data = df, x = 'member_gender', y = 'duration_sec');"
   ]
  },
  {
   "cell_type": "code",
   "execution_count": 59,
   "metadata": {},
   "outputs": [
    {
     "data": {
      "image/png": "[encoded data removed]",
      "text/plain": [
       "<matplotlib.figure.Figure at 0x7f24a1e4d240>"
      ]
     },
     "metadata": {
      "needs_background": "light"
     },
     "output_type": "display_data"
    }
   ],
   "source": [
    "# Use a sample of data to make better visualization of the box plot\n",
    "\n",
    "sample = df.sample(1000)\n",
    "\n",
    "plt.figure(figsize = [8, 5])\n",
    "plt.title('Sample of Trip Duration by User Gender')\n",
    "sb.boxplot(data = sample, x = 'member_gender', y = 'duration_sec');"
   ]
  },
  {
   "cell_type": "code",
   "execution_count": 60,
   "metadata": {},
   "outputs": [
    {
     "data": {
      "text/plain": [
       "672.39138934247137"
      ]
     },
     "execution_count": 60,
     "metadata": {},
     "output_type": "execute_result"
    }
   ],
   "source": [
    "# Average trip duration for Male\n",
    "\n",
    "df[male]['duration_sec'].mean()"
   ]
  },
  {
   "cell_type": "code",
   "execution_count": 61,
   "metadata": {},
   "outputs": [
    {
     "data": {
      "text/plain": [
       "778.95001348336643"
      ]
     },
     "execution_count": 61,
     "metadata": {},
     "output_type": "execute_result"
    }
   ],
   "source": [
    "# Average trip duration for Female\n",
    "\n",
    "df[female]['duration_sec'].mean()"
   ]
  },
  {
   "cell_type": "code",
   "execution_count": 62,
   "metadata": {},
   "outputs": [
    {
     "data": {
      "text/plain": [
       "997.40263302249036"
      ]
     },
     "execution_count": 62,
     "metadata": {},
     "output_type": "execute_result"
    }
   ],
   "source": [
    "# Average trip duration for Other\n",
    "\n",
    "df[others]['duration_sec'].mean()"
   ]
  },
  {
   "cell_type": "code",
   "execution_count": 63,
   "metadata": {},
   "outputs": [
    {
     "data": {
      "image/png": "[encoded data removed]",
      "text/plain": [
       "<matplotlib.figure.Figure at 0x7f24a1c86978>"
      ]
     },
     "metadata": {
      "needs_background": "light"
     },
     "output_type": "display_data"
    }
   ],
   "source": [
    "# Plot trip duration comparison\n",
    "\n",
    "duration_gender = df[['member_gender', 'duration_sec']].groupby('member_gender').mean()\n",
    "duration_gender.plot(kind = 'bar', figsize = [8, 5], legend= None)\n",
    "plt.title(\"Average of Trip Duration Based on Gender\")\n",
    "plt.ylabel(\"Trip Duration\")\n",
    "plt.xlabel('User Gender')\n",
    "plt.xticks(rotation=0)\n",
    "\n",
    "plt.show()"
   ]
  },
  {
   "cell_type": "markdown",
   "metadata": {},
   "source": [
    "From the plots above, we can see that the trip duration of female users is more than male users with an average of 779 seconds, wheras male users have an average of 672 seconds of trip durations. However, `Other` tops male and female with the trip duration frequency having an average of 997 seconds."
   ]
  },
  {
   "cell_type": "markdown",
   "metadata": {},
   "source": [
    "### What is the number of bike trips made by each user type per day?"
   ]
  },
  {
   "cell_type": "code",
   "execution_count": 64,
   "metadata": {},
   "outputs": [
    {
     "data": {
      "image/png": "[encoded data removed]",
      "text/plain": [
       "<matplotlib.figure.Figure at 0x7f249a8693c8>"
      ]
     },
     "metadata": {
      "needs_background": "light"
     },
     "output_type": "display_data"
    }
   ],
   "source": [
    "# Plot clustered bar chart for comparison\n",
    "\n",
    "plot = sb.countplot(data = df, x = 'start_day', hue = 'user_type', \n",
    "             order = ['Sunday', 'Monday', 'Tuesday', 'Wednesday', 'Thursday', 'Friday', 'Saturday'])\n",
    "plot.set_title('Number of Trips by Users per Day')\n",
    "plot.set_xlabel('Weekday')\n",
    "plot.set_ylabel('Count')\n",
    "plt.xticks(rotation=30)\n",
    "\n",
    "plt.show()"
   ]
  },
  {
   "cell_type": "markdown",
   "metadata": {},
   "source": [
    "From the clustered bar above, we can see the number of trips taken by subscribers is dramatically more than the trips taken by customers. For subscribers, we can see that Thursday has the highest number of trips, followed by Tuesday then Wednesday. As for customers, we can see that the number of trips in all weekdays are very similar. However, we can see Thursday having a slight count rise than the rest of the days, followed by Friday."
   ]
  },
  {
   "cell_type": "markdown",
   "metadata": {},
   "source": [
    "### What is the number of bike trips made by each user age per day?"
   ]
  },
  {
   "cell_type": "code",
   "execution_count": 65,
   "metadata": {},
   "outputs": [
    {
     "data": {
      "image/png": "[encoded data removed]",
      "text/plain": [
       "<matplotlib.figure.Figure at 0x7f249abf6d30>"
      ]
     },
     "metadata": {
      "needs_background": "light"
     },
     "output_type": "display_data"
    }
   ],
   "source": [
    "ct_counts = df.groupby(['start_day', 'age']).size()\n",
    "ct_counts = ct_counts.reset_index(name='count')\n",
    "ct_counts = ct_counts.pivot(index = 'start_day', columns = 'age', values = 'count')\n",
    "\n",
    "# Create heatmap\n",
    "heatmap = sb.heatmap(ct_counts, \n",
    "                     yticklabels = ['Sunday', 'Monday', 'Tuesday', 'Wednesday', 'Thursday', 'Friday', 'Saturday'])\n",
    "\n",
    "heatmap.set_xlim([0, 65])\n",
    "\n",
    "# set the colorbar ticks\n",
    "cbar = heatmap.collections[0].colorbar\n",
    "cbar.set_ticks([800, 1200, 1600])\n",
    "\n",
    "plt.xlabel('Age')\n",
    "plt.ylabel('Weekday')\n",
    "plt.title('Bike Trips Count of Users age per day')\n",
    "\n",
    "plt.show()"
   ]
  },
  {
   "cell_type": "markdown",
   "metadata": {},
   "source": [
    "From the heatmap, we can see that the majority of users aged between 24 and 36 frequently ride their bikes on Thursday, Friday, and Saturday. Also, the least frequent days for their bike rides are Tuesday and Wednesday. We can also see that users aged older than 42 don't drive their bikes much since the number of bike ride count is dropping."
   ]
  },
  {
   "cell_type": "markdown",
   "metadata": {},
   "source": [
    "### What is the correlation between each feature in the data?"
   ]
  },
  {
   "cell_type": "code",
   "execution_count": 66,
   "metadata": {},
   "outputs": [
    {
     "data": {
      "image/png": "[encoded data removed]",
      "text/plain": [
       "<matplotlib.figure.Figure at 0x7f24a1bc7b00>"
      ]
     },
     "metadata": {
      "needs_background": "light"
     },
     "output_type": "display_data"
    }
   ],
   "source": [
    "fig, ax = plt.subplots(figsize = [8, 5], dpi = 80)\n",
    "correlation = df.corr()\n",
    "sb.heatmap(correlation, annot = True, fmt = '.2f')\n",
    "ax.set_title(\"Correlation Between Variables\")\n",
    "plt.xticks(rotation=90)\n",
    "\n",
    "plt.show()"
   ]
  },
  {
   "cell_type": "markdown",
   "metadata": {},
   "source": [
    "From the heatmap above, we can observe the following:\n",
    "- There are almost no correlation between the trip duration and the start and end station ids, in addition to their longtitude and latitude.\n",
    "- There is a weak correlation between the start station id and the start and end station longtitudes. Thus, we can say that the station location might be a good factor to further study in the future.\n",
    "- There is a strong correlation between the start station latitude and the end station latitude. The same goes for the longtitude.\n",
    "- There is a negative correlation between the birth year and the age."
   ]
  },
  {
   "cell_type": "markdown",
   "metadata": {},
   "source": [
    "### Talk about some of the relationships you observed in this part of the investigation. How did the feature(s) of interest vary with other features in the dataset?\n",
    "\n",
    "> We observed that the trip duration depends on two important factors which are: **user type** and **user age**. The main reason is that the trip duration is significantly higher for customers in comparison with subscribers. Also, the age of users affects the duration of trips since users between 20 and 40 are the majority of bikers. We also observed that the subscribers have a higher bike ride count regardless of customers taking longer trip durations.\n",
    "\n",
    "### Did you observe any interesting relationships between the other features (not the main feature(s) of interest)?\n",
    "\n",
    "> The gender of users and its dependance on the trip duration is very interesting. We observed that females have a higher trip duration than males. We also observed that Thursday is the most popular day for bike rides among subscriberes and customers. In addition, we observed that the location of the start station and end station have a strong correlation, meaning that they are important factors in the dataset. Also, having no correlation between trip duration and the location of the stations is surprising. "
   ]
  },
  {
   "cell_type": "markdown",
   "metadata": {},
   "source": [
    "## Multivariate Exploration\n",
    "\n",
    "> This section investigates the relation between three or more variables in the data. This section would help us in investigating the data further, in addition to concluding insights from previous sections."
   ]
  },
  {
   "cell_type": "markdown",
   "metadata": {},
   "source": [
    "### What is the trip duration across gender and user type? "
   ]
  },
  {
   "cell_type": "code",
   "execution_count": 67,
   "metadata": {},
   "outputs": [
    {
     "data": {
      "image/png": "[encoded data removed]",
      "text/plain": [
       "<matplotlib.figure.Figure at 0x7f249ac14dd8>"
      ]
     },
     "metadata": {
      "needs_background": "light"
     },
     "output_type": "display_data"
    }
   ],
   "source": [
    "fig = plt.figure(figsize = [8,5])\n",
    "ax = sb.pointplot(data = df, x = 'member_gender', y = 'duration_sec', hue = 'user_type',\n",
    "           palette = 'Blues', linestyles = '', dodge = 0.4)\n",
    "\n",
    "plt.title('Trip Duration across gender and user type')\n",
    "plt.ylabel('Trip Duration')\n",
    "plt.xlabel('User Gender')\n",
    "\n",
    "plt.show()"
   ]
  },
  {
   "cell_type": "markdown",
   "metadata": {},
   "source": [
    "From the point plot above, we can say that **Other** gender and **Customer** user type spent the longest trip duration. For the male and female, we can see that **female customers** had longer trip durations than **male customers**. Overall, customers have longer trip durations than subscribers on a significant level."
   ]
  },
  {
   "cell_type": "markdown",
   "metadata": {},
   "source": [
    "### What is the bike trip duration of user types per day?"
   ]
  },
  {
   "cell_type": "code",
   "execution_count": 68,
   "metadata": {},
   "outputs": [
    {
     "data": {
      "image/png": "[encoded data removed]",
      "text/plain": [
       "<matplotlib.figure.Figure at 0x7f24a1ce8780>"
      ]
     },
     "metadata": {
      "needs_background": "light"
     },
     "output_type": "display_data"
    }
   ],
   "source": [
    "g = sb.FacetGrid(data = df, hue = 'user_type', size = 5)\n",
    "g.map(plt.scatter, 'start_day', 'duration_sec')\n",
    "g.add_legend()\n",
    "\n",
    "# Set the order of the x-axis\n",
    "day_order = ['Sunday', 'Monday', 'Tuesday', 'Wednesday', 'Thursday', 'Friday', 'Saturday']\n",
    "g.set_xticklabels(day_order, rotation=90)\n",
    "g.set_xlabels('Weekday')\n",
    "g.set_ylabels('Trip Duration')\n",
    "g.set_titles('Trip Duration for User Types per Day')\n",
    "\n",
    "plt.show()"
   ]
  },
  {
   "cell_type": "markdown",
   "metadata": {},
   "source": [
    "From the plot above, we can see that the majority of both customers and subscribers trip durations are clustered below 20,000 seconds i.e. 333.33 minutes (5.56 hours). Surprisingly, we can see that we have outliers for both customers and subscribers where the trip duration can reach up to 80,000 seconds (1333.3333 hours), for all weekdays. In addition, we can see that customers have longer trip durations on Monday, Wednesday, and Saturday. Whereas, subscribers have longer trip durations on Sunday, Thursday and Friday."
   ]
  },
  {
   "cell_type": "markdown",
   "metadata": {},
   "source": [
    "### Talk about some of the relationships you observed in this part of the investigation. Were there features that strengthened each other in terms of looking at your feature(s) of interest?\n",
    "\n",
    "> We observed that the `other` gender are the majority of customers and the ones who take the longest trip durations. We also observed that the majority of subscribers and customers take around 5.56 hours of trip durations or less on all weekdays. \n",
    "\n",
    "### Were there any interesting or surprising interactions between features?\n",
    "\n",
    "> Customers who have `other` gender take the longest trip durations. Surprisingly, there exists some outliers for customers and subscribers where the trip duration can be as long as 80,000 seconds or more (1333.3333 hours)."
   ]
  },
  {
   "cell_type": "markdown",
   "metadata": {},
   "source": [
    "## Conclusions\n",
    "> After exploring many factors, we conclude the following:\n",
    "- The average of trip durations is around 600 seconds i.e. 10 minutes.\n",
    "- Even though the majority of users are subscribers, customers have longer trip durations that subscribers.\n",
    "- Most users are aged between 20 and 40 with the average being 33 years old.\n",
    "- While male users are the majority of users in the system, female users and others have longer trip durations than male users.\n",
    "- Most users aged between 20 and 40 have trip duartions below 2000 seconds i.e. 33 minutes.\n",
    "- The highest day of the week for bike rides is Thursday, and the lowest is the weekend (Saturday and Sunday).\n",
    "- There is a strong relation between the location of the start and end stations.\n",
    "- There is no clear relation between the trip duration and the location of stations.\n",
    "- The majority of subscribers and customers take around 5.56 hours of trip durations or less on all weekdays. \n",
    "- The most popular day for bike rides for subscribers is Thursday and customers have longer trip durations on Saturday."
   ]
  },
  {
   "cell_type": "code",
   "execution_count": 69,
   "metadata": {},
   "outputs": [],
   "source": [
    "# Export clean dataset to csv format\n",
    "\n",
    "df.to_csv('df_clean.csv', index=None)"
   ]
  }
 ],
 "metadata": {
  "kernelspec": {
   "display_name": "Python 3",
   "language": "python",
   "name": "python3"
  },
  "language_info": {
   "codemirror_mode": {
    "name": "ipython",
    "version": 3
   },
   "file_extension": ".py",
   "mimetype": "text/x-python",
   "name": "python",
   "nbconvert_exporter": "python",
   "pygments_lexer": "ipython3",
   "version": "3.6.3"
  }
 },
 "nbformat": 4,
 "nbformat_minor": 2
}
